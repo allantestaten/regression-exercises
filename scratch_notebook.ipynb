{
 "cells": [
  {
   "cell_type": "code",
   "execution_count": 57,
   "id": "95313f75",
   "metadata": {},
   "outputs": [],
   "source": [
    "import numpy as np\n",
    "import pandas as pd\n",
    "import matplotlib.pyplot as plt\n",
    "import seaborn as sns\n",
    "from pathlib import Path \n",
    "import scipy.stats as stats\n",
    "import math\n",
    "\n",
    "# train test split from sklearn\n",
    "from sklearn.model_selection import train_test_split\n",
    "# imputer from sklearn\n",
    "from sklearn.impute import SimpleImputer\n",
    "\n",
    "import acquire \n",
    "import wrangle as w\n",
    "\n",
    "a = .05"
   ]
  },
  {
   "cell_type": "code",
   "execution_count": null,
   "id": "0d46e9b0",
   "metadata": {},
   "outputs": [],
   "source": [
    "df = acquire.new_zillow_data()"
   ]
  },
  {
   "cell_type": "code",
   "execution_count": null,
   "id": "b3786672",
   "metadata": {},
   "outputs": [],
   "source": [
    "filepath = Path('zillow.csv')\n",
    "filepath.parent.mkdir(parents=True, exist_ok=True)\n",
    "df.to_csv(filepath, index =False)"
   ]
  },
  {
   "cell_type": "code",
   "execution_count": null,
   "id": "b75bac64",
   "metadata": {},
   "outputs": [],
   "source": [
    "#Identifying number of fips to encode into location name\n",
    "df.fips.value_counts()"
   ]
  },
  {
   "cell_type": "code",
   "execution_count": null,
   "id": "ffe11e40",
   "metadata": {},
   "outputs": [],
   "source": [
    "# Reads local copy of csv \n",
    "df = pd.read_csv('zillow.csv')"
   ]
  },
  {
   "cell_type": "code",
   "execution_count": null,
   "id": "280b6269",
   "metadata": {},
   "outputs": [],
   "source": [
    "cleanup_fips = {\"fips\":{6037: 'Los Angeles CA', 6059:'Orange County CA', 6111: 'Ventura County CA'} }"
   ]
  },
  {
   "cell_type": "code",
   "execution_count": null,
   "id": "119dd83f",
   "metadata": {},
   "outputs": [],
   "source": [
    "df = df.replace(cleanup_fips)\n"
   ]
  },
  {
   "cell_type": "code",
   "execution_count": null,
   "id": "5fede1d7",
   "metadata": {},
   "outputs": [],
   "source": [
    "df.fips"
   ]
  },
  {
   "cell_type": "code",
   "execution_count": null,
   "id": "c9171c53",
   "metadata": {},
   "outputs": [],
   "source": [
    "df.info()"
   ]
  },
  {
   "cell_type": "code",
   "execution_count": 7,
   "id": "803bdaec",
   "metadata": {},
   "outputs": [],
   "source": [
    "# Select columns of interest \n",
    "cols = ['fips','beds', 'baths','sqft','property_value']\n",
    "\n"
   ]
  },
  {
   "cell_type": "code",
   "execution_count": 2,
   "id": "9e98484b",
   "metadata": {},
   "outputs": [],
   "source": [
    "#create, train, validate, test datasets\n",
    "\n",
    "train, validate, test = w.wrangle_zillow()"
   ]
  },
  {
   "cell_type": "code",
   "execution_count": 3,
   "id": "6431b908",
   "metadata": {},
   "outputs": [
    {
     "data": {
      "text/plain": [
       "(29288, 65)"
      ]
     },
     "execution_count": 3,
     "metadata": {},
     "output_type": "execute_result"
    }
   ],
   "source": [
    "# viewing size of train dataset\n",
    "train.shape"
   ]
  },
  {
   "cell_type": "code",
   "execution_count": 4,
   "id": "0aa56267",
   "metadata": {},
   "outputs": [
    {
     "data": {
      "text/plain": [
       "(12553, 65)"
      ]
     },
     "execution_count": 4,
     "metadata": {},
     "output_type": "execute_result"
    }
   ],
   "source": [
    "# viewing size of validate dataset\n",
    "validate.shape"
   ]
  },
  {
   "cell_type": "code",
   "execution_count": 5,
   "id": "5184cd46",
   "metadata": {},
   "outputs": [
    {
     "data": {
      "text/plain": [
       "(10461, 65)"
      ]
     },
     "execution_count": 5,
     "metadata": {},
     "output_type": "execute_result"
    }
   ],
   "source": [
    "# viewing size of test dataset\n",
    "test.shape"
   ]
  },
  {
   "cell_type": "code",
   "execution_count": 10,
   "id": "8ee0c561",
   "metadata": {},
   "outputs": [
    {
     "data": {
      "text/html": [
       "<div>\n",
       "<style scoped>\n",
       "    .dataframe tbody tr th:only-of-type {\n",
       "        vertical-align: middle;\n",
       "    }\n",
       "\n",
       "    .dataframe tbody tr th {\n",
       "        vertical-align: top;\n",
       "    }\n",
       "\n",
       "    .dataframe thead th {\n",
       "        text-align: right;\n",
       "    }\n",
       "</style>\n",
       "<table border=\"1\" class=\"dataframe\">\n",
       "  <thead>\n",
       "    <tr style=\"text-align: right;\">\n",
       "      <th></th>\n",
       "      <th>fips</th>\n",
       "      <th>beds</th>\n",
       "      <th>baths</th>\n",
       "      <th>sqft</th>\n",
       "      <th>property_value</th>\n",
       "    </tr>\n",
       "  </thead>\n",
       "  <tbody>\n",
       "    <tr>\n",
       "      <th>19001</th>\n",
       "      <td>Los Angeles CA</td>\n",
       "      <td>4.0</td>\n",
       "      <td>3.0</td>\n",
       "      <td>1948.0</td>\n",
       "      <td>379950.0</td>\n",
       "    </tr>\n",
       "    <tr>\n",
       "      <th>41819</th>\n",
       "      <td>Los Angeles CA</td>\n",
       "      <td>4.0</td>\n",
       "      <td>3.0</td>\n",
       "      <td>2796.0</td>\n",
       "      <td>658598.0</td>\n",
       "    </tr>\n",
       "    <tr>\n",
       "      <th>52428</th>\n",
       "      <td>Los Angeles CA</td>\n",
       "      <td>2.0</td>\n",
       "      <td>1.0</td>\n",
       "      <td>1023.0</td>\n",
       "      <td>222739.0</td>\n",
       "    </tr>\n",
       "    <tr>\n",
       "      <th>291</th>\n",
       "      <td>Los Angeles CA</td>\n",
       "      <td>3.0</td>\n",
       "      <td>2.0</td>\n",
       "      <td>1463.0</td>\n",
       "      <td>177864.0</td>\n",
       "    </tr>\n",
       "    <tr>\n",
       "      <th>41620</th>\n",
       "      <td>Orange County CA</td>\n",
       "      <td>5.0</td>\n",
       "      <td>3.5</td>\n",
       "      <td>3232.0</td>\n",
       "      <td>1923718.0</td>\n",
       "    </tr>\n",
       "    <tr>\n",
       "      <th>...</th>\n",
       "      <td>...</td>\n",
       "      <td>...</td>\n",
       "      <td>...</td>\n",
       "      <td>...</td>\n",
       "      <td>...</td>\n",
       "    </tr>\n",
       "    <tr>\n",
       "      <th>22505</th>\n",
       "      <td>Los Angeles CA</td>\n",
       "      <td>4.0</td>\n",
       "      <td>3.0</td>\n",
       "      <td>1825.0</td>\n",
       "      <td>228365.0</td>\n",
       "    </tr>\n",
       "    <tr>\n",
       "      <th>43458</th>\n",
       "      <td>Los Angeles CA</td>\n",
       "      <td>4.0</td>\n",
       "      <td>3.0</td>\n",
       "      <td>1971.0</td>\n",
       "      <td>207105.0</td>\n",
       "    </tr>\n",
       "    <tr>\n",
       "      <th>13005</th>\n",
       "      <td>Los Angeles CA</td>\n",
       "      <td>3.0</td>\n",
       "      <td>2.0</td>\n",
       "      <td>1537.0</td>\n",
       "      <td>75080.0</td>\n",
       "    </tr>\n",
       "    <tr>\n",
       "      <th>18672</th>\n",
       "      <td>Los Angeles CA</td>\n",
       "      <td>3.0</td>\n",
       "      <td>2.0</td>\n",
       "      <td>1768.0</td>\n",
       "      <td>588000.0</td>\n",
       "    </tr>\n",
       "    <tr>\n",
       "      <th>8648</th>\n",
       "      <td>Orange County CA</td>\n",
       "      <td>3.0</td>\n",
       "      <td>2.0</td>\n",
       "      <td>1783.0</td>\n",
       "      <td>235878.0</td>\n",
       "    </tr>\n",
       "  </tbody>\n",
       "</table>\n",
       "<p>29288 rows × 5 columns</p>\n",
       "</div>"
      ],
      "text/plain": [
       "                   fips  beds  baths    sqft  property_value\n",
       "19001    Los Angeles CA   4.0    3.0  1948.0        379950.0\n",
       "41819    Los Angeles CA   4.0    3.0  2796.0        658598.0\n",
       "52428    Los Angeles CA   2.0    1.0  1023.0        222739.0\n",
       "291      Los Angeles CA   3.0    2.0  1463.0        177864.0\n",
       "41620  Orange County CA   5.0    3.5  3232.0       1923718.0\n",
       "...                 ...   ...    ...     ...             ...\n",
       "22505    Los Angeles CA   4.0    3.0  1825.0        228365.0\n",
       "43458    Los Angeles CA   4.0    3.0  1971.0        207105.0\n",
       "13005    Los Angeles CA   3.0    2.0  1537.0         75080.0\n",
       "18672    Los Angeles CA   3.0    2.0  1768.0        588000.0\n",
       "8648   Orange County CA   3.0    2.0  1783.0        235878.0\n",
       "\n",
       "[29288 rows x 5 columns]"
      ]
     },
     "execution_count": 10,
     "metadata": {},
     "output_type": "execute_result"
    }
   ],
   "source": [
    "# reviewing data for train dataset\n",
    "train"
   ]
  },
  {
   "cell_type": "code",
   "execution_count": 50,
   "id": "b165062b",
   "metadata": {
    "scrolled": true
   },
   "outputs": [
    {
     "data": {
      "text/html": [
       "<div>\n",
       "<style scoped>\n",
       "    .dataframe tbody tr th:only-of-type {\n",
       "        vertical-align: middle;\n",
       "    }\n",
       "\n",
       "    .dataframe tbody tr th {\n",
       "        vertical-align: top;\n",
       "    }\n",
       "\n",
       "    .dataframe thead th {\n",
       "        text-align: right;\n",
       "    }\n",
       "</style>\n",
       "<table border=\"1\" class=\"dataframe\">\n",
       "  <thead>\n",
       "    <tr style=\"text-align: right;\">\n",
       "      <th></th>\n",
       "      <th>propertylandusetypeid</th>\n",
       "      <th>parcelid</th>\n",
       "      <th>id</th>\n",
       "      <th>logerror</th>\n",
       "      <th>transactiondate</th>\n",
       "      <th>id.1</th>\n",
       "      <th>airconditioningtypeid</th>\n",
       "      <th>architecturalstyletypeid</th>\n",
       "      <th>basementsqft</th>\n",
       "      <th>baths</th>\n",
       "      <th>...</th>\n",
       "      <th>assessmentyear</th>\n",
       "      <th>landtaxvaluedollarcnt</th>\n",
       "      <th>taxamount</th>\n",
       "      <th>taxdelinquencyflag</th>\n",
       "      <th>taxdelinquencyyear</th>\n",
       "      <th>censustractandblock</th>\n",
       "      <th>propertylandusedesc</th>\n",
       "      <th>fips_Orange County CA</th>\n",
       "      <th>fips_Ventura County CA</th>\n",
       "      <th>rooms_count</th>\n",
       "    </tr>\n",
       "  </thead>\n",
       "  <tbody>\n",
       "    <tr>\n",
       "      <th>19001</th>\n",
       "      <td>261.0</td>\n",
       "      <td>10846168</td>\n",
       "      <td>28338</td>\n",
       "      <td>-0.027393</td>\n",
       "      <td>2017-04-20</td>\n",
       "      <td>31629</td>\n",
       "      <td>NaN</td>\n",
       "      <td>NaN</td>\n",
       "      <td>NaN</td>\n",
       "      <td>3.0</td>\n",
       "      <td>...</td>\n",
       "      <td>2016.0</td>\n",
       "      <td>215362.0</td>\n",
       "      <td>4750.27</td>\n",
       "      <td>Y</td>\n",
       "      <td>15.0</td>\n",
       "      <td>6.037129e+13</td>\n",
       "      <td>Single Family Residential</td>\n",
       "      <td>0</td>\n",
       "      <td>0</td>\n",
       "      <td>7.0</td>\n",
       "    </tr>\n",
       "    <tr>\n",
       "      <th>41819</th>\n",
       "      <td>261.0</td>\n",
       "      <td>11117113</td>\n",
       "      <td>61812</td>\n",
       "      <td>0.018309</td>\n",
       "      <td>2017-07-28</td>\n",
       "      <td>2862418</td>\n",
       "      <td>1.0</td>\n",
       "      <td>NaN</td>\n",
       "      <td>NaN</td>\n",
       "      <td>3.0</td>\n",
       "      <td>...</td>\n",
       "      <td>2016.0</td>\n",
       "      <td>244385.0</td>\n",
       "      <td>13240.03</td>\n",
       "      <td>NaN</td>\n",
       "      <td>NaN</td>\n",
       "      <td>6.037920e+13</td>\n",
       "      <td>Single Family Residential</td>\n",
       "      <td>0</td>\n",
       "      <td>0</td>\n",
       "      <td>7.0</td>\n",
       "    </tr>\n",
       "    <tr>\n",
       "      <th>52428</th>\n",
       "      <td>261.0</td>\n",
       "      <td>12410050</td>\n",
       "      <td>77596</td>\n",
       "      <td>0.000749</td>\n",
       "      <td>2017-09-19</td>\n",
       "      <td>2900077</td>\n",
       "      <td>NaN</td>\n",
       "      <td>NaN</td>\n",
       "      <td>NaN</td>\n",
       "      <td>1.0</td>\n",
       "      <td>...</td>\n",
       "      <td>2016.0</td>\n",
       "      <td>157067.0</td>\n",
       "      <td>2759.92</td>\n",
       "      <td>NaN</td>\n",
       "      <td>NaN</td>\n",
       "      <td>6.037553e+13</td>\n",
       "      <td>Single Family Residential</td>\n",
       "      <td>0</td>\n",
       "      <td>0</td>\n",
       "      <td>3.0</td>\n",
       "    </tr>\n",
       "    <tr>\n",
       "      <th>291</th>\n",
       "      <td>261.0</td>\n",
       "      <td>12697883</td>\n",
       "      <td>433</td>\n",
       "      <td>0.670008</td>\n",
       "      <td>2017-01-04</td>\n",
       "      <td>649940</td>\n",
       "      <td>NaN</td>\n",
       "      <td>NaN</td>\n",
       "      <td>NaN</td>\n",
       "      <td>2.0</td>\n",
       "      <td>...</td>\n",
       "      <td>2016.0</td>\n",
       "      <td>55070.0</td>\n",
       "      <td>2179.90</td>\n",
       "      <td>NaN</td>\n",
       "      <td>NaN</td>\n",
       "      <td>6.037296e+13</td>\n",
       "      <td>Single Family Residential</td>\n",
       "      <td>0</td>\n",
       "      <td>0</td>\n",
       "      <td>5.0</td>\n",
       "    </tr>\n",
       "    <tr>\n",
       "      <th>41620</th>\n",
       "      <td>261.0</td>\n",
       "      <td>14427271</td>\n",
       "      <td>61527</td>\n",
       "      <td>-0.149427</td>\n",
       "      <td>2017-07-27</td>\n",
       "      <td>1474167</td>\n",
       "      <td>NaN</td>\n",
       "      <td>NaN</td>\n",
       "      <td>NaN</td>\n",
       "      <td>3.5</td>\n",
       "      <td>...</td>\n",
       "      <td>2016.0</td>\n",
       "      <td>1471937.0</td>\n",
       "      <td>21123.34</td>\n",
       "      <td>NaN</td>\n",
       "      <td>NaN</td>\n",
       "      <td>6.059042e+13</td>\n",
       "      <td>Single Family Residential</td>\n",
       "      <td>1</td>\n",
       "      <td>0</td>\n",
       "      <td>8.5</td>\n",
       "    </tr>\n",
       "    <tr>\n",
       "      <th>...</th>\n",
       "      <td>...</td>\n",
       "      <td>...</td>\n",
       "      <td>...</td>\n",
       "      <td>...</td>\n",
       "      <td>...</td>\n",
       "      <td>...</td>\n",
       "      <td>...</td>\n",
       "      <td>...</td>\n",
       "      <td>...</td>\n",
       "      <td>...</td>\n",
       "      <td>...</td>\n",
       "      <td>...</td>\n",
       "      <td>...</td>\n",
       "      <td>...</td>\n",
       "      <td>...</td>\n",
       "      <td>...</td>\n",
       "      <td>...</td>\n",
       "      <td>...</td>\n",
       "      <td>...</td>\n",
       "      <td>...</td>\n",
       "      <td>...</td>\n",
       "    </tr>\n",
       "    <tr>\n",
       "      <th>22505</th>\n",
       "      <td>261.0</td>\n",
       "      <td>11138390</td>\n",
       "      <td>33500</td>\n",
       "      <td>0.035869</td>\n",
       "      <td>2017-05-05</td>\n",
       "      <td>286291</td>\n",
       "      <td>1.0</td>\n",
       "      <td>NaN</td>\n",
       "      <td>NaN</td>\n",
       "      <td>3.0</td>\n",
       "      <td>...</td>\n",
       "      <td>2016.0</td>\n",
       "      <td>49626.0</td>\n",
       "      <td>3318.27</td>\n",
       "      <td>NaN</td>\n",
       "      <td>NaN</td>\n",
       "      <td>6.037920e+13</td>\n",
       "      <td>Single Family Residential</td>\n",
       "      <td>0</td>\n",
       "      <td>0</td>\n",
       "      <td>7.0</td>\n",
       "    </tr>\n",
       "    <tr>\n",
       "      <th>43458</th>\n",
       "      <td>261.0</td>\n",
       "      <td>11282267</td>\n",
       "      <td>64249</td>\n",
       "      <td>0.024009</td>\n",
       "      <td>2017-08-07</td>\n",
       "      <td>2896138</td>\n",
       "      <td>1.0</td>\n",
       "      <td>NaN</td>\n",
       "      <td>NaN</td>\n",
       "      <td>3.0</td>\n",
       "      <td>...</td>\n",
       "      <td>2016.0</td>\n",
       "      <td>41421.0</td>\n",
       "      <td>3256.07</td>\n",
       "      <td>Y</td>\n",
       "      <td>14.0</td>\n",
       "      <td>6.037901e+13</td>\n",
       "      <td>Single Family Residential</td>\n",
       "      <td>0</td>\n",
       "      <td>0</td>\n",
       "      <td>7.0</td>\n",
       "    </tr>\n",
       "    <tr>\n",
       "      <th>13005</th>\n",
       "      <td>261.0</td>\n",
       "      <td>11391112</td>\n",
       "      <td>19378</td>\n",
       "      <td>-0.011952</td>\n",
       "      <td>2017-03-22</td>\n",
       "      <td>1703994</td>\n",
       "      <td>NaN</td>\n",
       "      <td>NaN</td>\n",
       "      <td>NaN</td>\n",
       "      <td>2.0</td>\n",
       "      <td>...</td>\n",
       "      <td>2016.0</td>\n",
       "      <td>33482.0</td>\n",
       "      <td>3585.08</td>\n",
       "      <td>NaN</td>\n",
       "      <td>NaN</td>\n",
       "      <td>6.037235e+13</td>\n",
       "      <td>Single Family Residential</td>\n",
       "      <td>0</td>\n",
       "      <td>0</td>\n",
       "      <td>5.0</td>\n",
       "    </tr>\n",
       "    <tr>\n",
       "      <th>18672</th>\n",
       "      <td>261.0</td>\n",
       "      <td>11090806</td>\n",
       "      <td>27840</td>\n",
       "      <td>-0.064925</td>\n",
       "      <td>2017-04-19</td>\n",
       "      <td>1926798</td>\n",
       "      <td>1.0</td>\n",
       "      <td>NaN</td>\n",
       "      <td>NaN</td>\n",
       "      <td>2.0</td>\n",
       "      <td>...</td>\n",
       "      <td>2016.0</td>\n",
       "      <td>432000.0</td>\n",
       "      <td>7162.98</td>\n",
       "      <td>NaN</td>\n",
       "      <td>NaN</td>\n",
       "      <td>6.037115e+13</td>\n",
       "      <td>Single Family Residential</td>\n",
       "      <td>0</td>\n",
       "      <td>0</td>\n",
       "      <td>5.0</td>\n",
       "    </tr>\n",
       "    <tr>\n",
       "      <th>8648</th>\n",
       "      <td>261.0</td>\n",
       "      <td>14212175</td>\n",
       "      <td>12939</td>\n",
       "      <td>0.035048</td>\n",
       "      <td>2017-02-28</td>\n",
       "      <td>2815258</td>\n",
       "      <td>NaN</td>\n",
       "      <td>NaN</td>\n",
       "      <td>NaN</td>\n",
       "      <td>2.0</td>\n",
       "      <td>...</td>\n",
       "      <td>2016.0</td>\n",
       "      <td>125085.0</td>\n",
       "      <td>2709.60</td>\n",
       "      <td>NaN</td>\n",
       "      <td>NaN</td>\n",
       "      <td>6.059022e+13</td>\n",
       "      <td>Single Family Residential</td>\n",
       "      <td>1</td>\n",
       "      <td>0</td>\n",
       "      <td>5.0</td>\n",
       "    </tr>\n",
       "  </tbody>\n",
       "</table>\n",
       "<p>29288 rows × 66 columns</p>\n",
       "</div>"
      ],
      "text/plain": [
       "       propertylandusetypeid  parcelid     id  logerror transactiondate  \\\n",
       "19001                  261.0  10846168  28338 -0.027393      2017-04-20   \n",
       "41819                  261.0  11117113  61812  0.018309      2017-07-28   \n",
       "52428                  261.0  12410050  77596  0.000749      2017-09-19   \n",
       "291                    261.0  12697883    433  0.670008      2017-01-04   \n",
       "41620                  261.0  14427271  61527 -0.149427      2017-07-27   \n",
       "...                      ...       ...    ...       ...             ...   \n",
       "22505                  261.0  11138390  33500  0.035869      2017-05-05   \n",
       "43458                  261.0  11282267  64249  0.024009      2017-08-07   \n",
       "13005                  261.0  11391112  19378 -0.011952      2017-03-22   \n",
       "18672                  261.0  11090806  27840 -0.064925      2017-04-19   \n",
       "8648                   261.0  14212175  12939  0.035048      2017-02-28   \n",
       "\n",
       "          id.1  airconditioningtypeid  architecturalstyletypeid  basementsqft  \\\n",
       "19001    31629                    NaN                       NaN           NaN   \n",
       "41819  2862418                    1.0                       NaN           NaN   \n",
       "52428  2900077                    NaN                       NaN           NaN   \n",
       "291     649940                    NaN                       NaN           NaN   \n",
       "41620  1474167                    NaN                       NaN           NaN   \n",
       "...        ...                    ...                       ...           ...   \n",
       "22505   286291                    1.0                       NaN           NaN   \n",
       "43458  2896138                    1.0                       NaN           NaN   \n",
       "13005  1703994                    NaN                       NaN           NaN   \n",
       "18672  1926798                    1.0                       NaN           NaN   \n",
       "8648   2815258                    NaN                       NaN           NaN   \n",
       "\n",
       "       baths  ...  assessmentyear  landtaxvaluedollarcnt  taxamount  \\\n",
       "19001    3.0  ...          2016.0               215362.0    4750.27   \n",
       "41819    3.0  ...          2016.0               244385.0   13240.03   \n",
       "52428    1.0  ...          2016.0               157067.0    2759.92   \n",
       "291      2.0  ...          2016.0                55070.0    2179.90   \n",
       "41620    3.5  ...          2016.0              1471937.0   21123.34   \n",
       "...      ...  ...             ...                    ...        ...   \n",
       "22505    3.0  ...          2016.0                49626.0    3318.27   \n",
       "43458    3.0  ...          2016.0                41421.0    3256.07   \n",
       "13005    2.0  ...          2016.0                33482.0    3585.08   \n",
       "18672    2.0  ...          2016.0               432000.0    7162.98   \n",
       "8648     2.0  ...          2016.0               125085.0    2709.60   \n",
       "\n",
       "       taxdelinquencyflag  taxdelinquencyyear  censustractandblock  \\\n",
       "19001                   Y                15.0         6.037129e+13   \n",
       "41819                 NaN                 NaN         6.037920e+13   \n",
       "52428                 NaN                 NaN         6.037553e+13   \n",
       "291                   NaN                 NaN         6.037296e+13   \n",
       "41620                 NaN                 NaN         6.059042e+13   \n",
       "...                   ...                 ...                  ...   \n",
       "22505                 NaN                 NaN         6.037920e+13   \n",
       "43458                   Y                14.0         6.037901e+13   \n",
       "13005                 NaN                 NaN         6.037235e+13   \n",
       "18672                 NaN                 NaN         6.037115e+13   \n",
       "8648                  NaN                 NaN         6.059022e+13   \n",
       "\n",
       "             propertylandusedesc  fips_Orange County CA  \\\n",
       "19001  Single Family Residential                      0   \n",
       "41819  Single Family Residential                      0   \n",
       "52428  Single Family Residential                      0   \n",
       "291    Single Family Residential                      0   \n",
       "41620  Single Family Residential                      1   \n",
       "...                          ...                    ...   \n",
       "22505  Single Family Residential                      0   \n",
       "43458  Single Family Residential                      0   \n",
       "13005  Single Family Residential                      0   \n",
       "18672  Single Family Residential                      0   \n",
       "8648   Single Family Residential                      1   \n",
       "\n",
       "       fips_Ventura County CA  rooms_count  \n",
       "19001                       0          7.0  \n",
       "41819                       0          7.0  \n",
       "52428                       0          3.0  \n",
       "291                         0          5.0  \n",
       "41620                       0          8.5  \n",
       "...                       ...          ...  \n",
       "22505                       0          7.0  \n",
       "43458                       0          7.0  \n",
       "13005                       0          5.0  \n",
       "18672                       0          5.0  \n",
       "8648                        0          5.0  \n",
       "\n",
       "[29288 rows x 66 columns]"
      ]
     },
     "execution_count": 50,
     "metadata": {},
     "output_type": "execute_result"
    }
   ],
   "source": [
    "train['rooms_count']= train['baths']+train['beds']\n",
    "\n",
    "train"
   ]
  },
  {
   "cell_type": "code",
   "execution_count": 77,
   "id": "eb03e3ca",
   "metadata": {},
   "outputs": [
    {
     "data": {
      "text/plain": [
       "count    2.928800e+04\n",
       "mean     5.187108e+05\n",
       "std      6.541880e+05\n",
       "min      3.254000e+03\n",
       "25%      1.919088e+05\n",
       "50%      3.714565e+05\n",
       "75%      6.150000e+05\n",
       "max      2.385837e+07\n",
       "Name: property_value, dtype: float64"
      ]
     },
     "execution_count": 77,
     "metadata": {},
     "output_type": "execute_result"
    }
   ],
   "source": [
    "train.property_value.describe()"
   ]
  },
  {
   "cell_type": "code",
   "execution_count": 67,
   "id": "e30f5a5a",
   "metadata": {},
   "outputs": [],
   "source": [
    "#Rounding up in rooms count \n",
    "train['rooms_count'] = train['rooms_count'].apply(np.ceil)"
   ]
  },
  {
   "cell_type": "markdown",
   "id": "bbd5e755",
   "metadata": {},
   "source": [
    "### What is the median and mean home price? "
   ]
  },
  {
   "cell_type": "code",
   "execution_count": 75,
   "id": "31c79417",
   "metadata": {},
   "outputs": [
    {
     "data": {
      "text/plain": [
       "<AxesSubplot:>"
      ]
     },
     "execution_count": 75,
     "metadata": {},
     "output_type": "execute_result"
    },
    {
     "data": {
      "image/png": "[encoded data removed]",
      "text/plain": [
       "<Figure size 432x288 with 1 Axes>"
      ]
     },
     "metadata": {
      "needs_background": "light"
     },
     "output_type": "display_data"
    }
   ],
   "source": [
    "train.property_value.hist()"
   ]
  },
  {
   "cell_type": "code",
   "execution_count": 83,
   "id": "c15af2cd",
   "metadata": {
    "scrolled": true
   },
   "outputs": [
    {
     "data": {
      "text/plain": [
       "371456.5"
      ]
     },
     "execution_count": 83,
     "metadata": {},
     "output_type": "execute_result"
    }
   ],
   "source": [
    "#calculating median of property values \n",
    "median = train.property_value.median()\n",
    "median"
   ]
  },
  {
   "cell_type": "code",
   "execution_count": 86,
   "id": "edca5819",
   "metadata": {},
   "outputs": [
    {
     "data": {
      "text/plain": [
       "518710.756760448"
      ]
     },
     "execution_count": 86,
     "metadata": {},
     "output_type": "execute_result"
    }
   ],
   "source": [
    "#calculating mean of property values \n",
    "mean = train.property_value.mean()\n",
    "mean"
   ]
  },
  {
   "cell_type": "code",
   "execution_count": 84,
   "id": "49d5fc5b",
   "metadata": {},
   "outputs": [
    {
     "data": {
      "text/plain": [
       "147254.25676044798"
      ]
     },
     "execution_count": 84,
     "metadata": {},
     "output_type": "execute_result"
    }
   ],
   "source": [
    "# difference between mean and median \n",
    "difference = mean - median\n",
    "\n",
    "difference"
   ]
  },
  {
   "cell_type": "code",
   "execution_count": 88,
   "id": "adebdb00",
   "metadata": {},
   "outputs": [
    {
     "data": {
      "text/plain": [
       "23858374.0"
      ]
     },
     "execution_count": 88,
     "metadata": {},
     "output_type": "execute_result"
    }
   ],
   "source": [
    "train.property_value.max()"
   ]
  },
  {
   "cell_type": "markdown",
   "id": "2d7ec6ff",
   "metadata": {},
   "source": [
    "### Takeaways\n",
    "\n",
    "- The median property value is 371,456\n",
    "- The mean property value is 518,710\n",
    "- The difference between these values is 147,254\n",
    "- 50% of home values are above or below the median \n",
    "- Mean is higher than median most likely due to outlier home prices"
   ]
  },
  {
   "cell_type": "markdown",
   "id": "e184f607",
   "metadata": {},
   "source": [
    "### Is there a significant difference in mean property value across Los Angeles, Ventura County and Orange County?  "
   ]
  },
  {
   "cell_type": "code",
   "execution_count": 13,
   "id": "943d4e0e",
   "metadata": {},
   "outputs": [
    {
     "data": {
      "text/plain": [
       "[Text(0.5, 1.0, 'Spread of Home Prices')]"
      ]
     },
     "execution_count": 13,
     "metadata": {},
     "output_type": "execute_result"
    },
    {
     "data": {
      "image/png": "[encoded data removed]",
      "text/plain": [
       "<Figure size 432x288 with 1 Axes>"
      ]
     },
     "metadata": {
      "needs_background": "light"
     },
     "output_type": "display_data"
    }
   ],
   "source": [
    "# box plot Fips vs Property value \n",
    "sns.boxplot(data=train, x='fips', y='property_value').set(title='Spread of Home Prices')\n"
   ]
  },
  {
   "cell_type": "markdown",
   "id": "0f6084f3",
   "metadata": {},
   "source": [
    "### Chart Takeaways \n",
    "- Difficult to verify prices but you can see there is a larger spread of home prices in Los angelese california compared to other counties.\n",
    "- Orange County has the second largest spread \n",
    "- Ventura County has the smallest spread of home prices \n"
   ]
  },
  {
   "cell_type": "markdown",
   "id": "f6fb6ca7",
   "metadata": {},
   "source": [
    "### Hypothesis\n",
    "\n",
    "**Ho: There is no difference in mean property values across Los Angeles County, Ventura County and Orange County.**<br>\n",
    "**Ha: There is a significant difference in mean property values across Los Angeles County, Ventura County and Orange County.** "
   ]
  },
  {
   "cell_type": "code",
   "execution_count": 15,
   "id": "a56072c2",
   "metadata": {},
   "outputs": [
    {
     "data": {
      "text/plain": [
       "Los Angeles CA       18970\n",
       "Orange County CA      7894\n",
       "Ventura County CA     2424\n",
       "Name: fips, dtype: int64"
      ]
     },
     "execution_count": 15,
     "metadata": {},
     "output_type": "execute_result"
    }
   ],
   "source": [
    "# Count of properties in each County\n",
    "train.fips.value_counts()"
   ]
  },
  {
   "cell_type": "code",
   "execution_count": 17,
   "id": "3d80f1e9",
   "metadata": {},
   "outputs": [],
   "source": [
    "la = train[train.fips == 'Los Angeles CA'].property_value\n",
    "oc = train[train.fips == 'Orange County CA'].property_value\n",
    "vc = train[train.fips == 'Ventura County CA'].property_value"
   ]
  },
  {
   "cell_type": "code",
   "execution_count": 18,
   "id": "b8a3990d",
   "metadata": {},
   "outputs": [
    {
     "data": {
      "text/plain": [
       "<AxesSubplot:>"
      ]
     },
     "execution_count": 18,
     "metadata": {},
     "output_type": "execute_result"
    },
    {
     "data": {
      "image/png": "[encoded data removed]",
      "text/plain": [
       "<Figure size 432x288 with 1 Axes>"
      ]
     },
     "metadata": {
      "needs_background": "light"
     },
     "output_type": "display_data"
    }
   ],
   "source": [
    "# histogram of prices in La County\n",
    "la.hist()"
   ]
  },
  {
   "cell_type": "code",
   "execution_count": 19,
   "id": "c4f65d55",
   "metadata": {},
   "outputs": [
    {
     "data": {
      "text/plain": [
       "<AxesSubplot:>"
      ]
     },
     "execution_count": 19,
     "metadata": {},
     "output_type": "execute_result"
    },
    {
     "data": {
      "image/png": "[encoded data removed]",
      "text/plain": [
       "<Figure size 432x288 with 1 Axes>"
      ]
     },
     "metadata": {
      "needs_background": "light"
     },
     "output_type": "display_data"
    }
   ],
   "source": [
    "# histogram of prices in Orange County\n",
    "oc.hist()"
   ]
  },
  {
   "cell_type": "code",
   "execution_count": 20,
   "id": "29875c6f",
   "metadata": {},
   "outputs": [
    {
     "data": {
      "text/plain": [
       "<AxesSubplot:>"
      ]
     },
     "execution_count": 20,
     "metadata": {},
     "output_type": "execute_result"
    },
    {
     "data": {
      "image/png": "[encoded data removed]",
      "text/plain": [
       "<Figure size 432x288 with 1 Axes>"
      ]
     },
     "metadata": {
      "needs_background": "light"
     },
     "output_type": "display_data"
    }
   ],
   "source": [
    "# histogram of prices in Ventura County\n",
    "vc.hist()"
   ]
  },
  {
   "cell_type": "code",
   "execution_count": 21,
   "id": "88028a87",
   "metadata": {},
   "outputs": [
    {
     "data": {
      "text/plain": [
       "470190375995.49036"
      ]
     },
     "execution_count": 21,
     "metadata": {},
     "output_type": "execute_result"
    }
   ],
   "source": [
    "# variance of prices in La County\n",
    "la.var()"
   ]
  },
  {
   "cell_type": "code",
   "execution_count": 22,
   "id": "98b2d922",
   "metadata": {},
   "outputs": [
    {
     "data": {
      "text/plain": [
       "400862133755.29675"
      ]
     },
     "execution_count": 22,
     "metadata": {},
     "output_type": "execute_result"
    }
   ],
   "source": [
    "# variance of prices in Orange County\n",
    "oc.var()"
   ]
  },
  {
   "cell_type": "code",
   "execution_count": 23,
   "id": "5112ebf3",
   "metadata": {},
   "outputs": [
    {
     "data": {
      "text/plain": [
       "150815222218.48343"
      ]
     },
     "execution_count": 23,
     "metadata": {},
     "output_type": "execute_result"
    }
   ],
   "source": [
    "# variance of prices in Ventura County\n",
    "vc.var()"
   ]
  },
  {
   "cell_type": "code",
   "execution_count": 26,
   "id": "aaddbd10",
   "metadata": {},
   "outputs": [
    {
     "data": {
      "text/plain": [
       "KruskalResult(statistic=1034.6097346152808, pvalue=2.1744562124567947e-225)"
      ]
     },
     "execution_count": 26,
     "metadata": {},
     "output_type": "execute_result"
    }
   ],
   "source": [
    "# results of statistical test \n",
    "stats.kruskal(la, oc, vc)"
   ]
  },
  {
   "cell_type": "markdown",
   "id": "66df8ad2",
   "metadata": {},
   "source": [
    "### Takeaways \n",
    "- These prices are not normally distributed \n",
    "- Will use Kruskal-Wallis test since prices not normally distributed \n",
    "- Variances are not similar \n",
    "- There is a significant difference in the mean property value of the homes across Los Angeles, Ventura and Orange County \n"
   ]
  },
  {
   "cell_type": "markdown",
   "id": "a345a4da",
   "metadata": {},
   "source": [
    "### Is there a correlation between the sqft of a house and it's property value ?  "
   ]
  },
  {
   "cell_type": "code",
   "execution_count": 30,
   "id": "db2e1205",
   "metadata": {},
   "outputs": [
    {
     "data": {
      "text/plain": [
       "[Text(0.5, 1.0, 'Sqft and Value')]"
      ]
     },
     "execution_count": 30,
     "metadata": {},
     "output_type": "execute_result"
    },
    {
     "data": {
      "image/png": "[encoded data removed]",
      "text/plain": [
       "<Figure size 432x288 with 1 Axes>"
      ]
     },
     "metadata": {
      "needs_background": "light"
     },
     "output_type": "display_data"
    }
   ],
   "source": [
    "#visualization of sqft vs property value \n",
    "\n",
    "sns.regplot(x=\"sqft\",\n",
    "            y=\"property_value\", \n",
    "            data=train).set(title='Sqft and Value')\n"
   ]
  },
  {
   "cell_type": "markdown",
   "id": "e470c8c4",
   "metadata": {},
   "source": [
    "### Chart Takeaways \n",
    "- Most homes are between 0 and 8,000 sqft \n",
    "- Most properties are under $1 million"
   ]
  },
  {
   "cell_type": "markdown",
   "id": "d523741a",
   "metadata": {},
   "source": [
    "### Hypothesis: \n",
    "\n",
    "**Ho: There is no correlation between home square footage and property value.**<br>\n",
    "**Ha: There is a correlation between home square footage and property value.** "
   ]
  },
  {
   "cell_type": "code",
   "execution_count": 33,
   "id": "8a60a0e2",
   "metadata": {},
   "outputs": [
    {
     "data": {
      "text/plain": [
       "(0.5902051076187558, 0.0)"
      ]
     },
     "execution_count": 33,
     "metadata": {},
     "output_type": "execute_result"
    }
   ],
   "source": [
    "# statistics test results \n",
    "corr, p = stats.pearsonr(train.sqft, train.property_value)\n",
    "\n",
    "corr, p"
   ]
  },
  {
   "cell_type": "markdown",
   "id": "98582307",
   "metadata": {},
   "source": [
    "### Takeaway from test \n",
    "- Test is significant and there is a positive correlation between home sqft and home price"
   ]
  },
  {
   "cell_type": "markdown",
   "id": "4ad719ff",
   "metadata": {},
   "source": [
    "### Is there a correlation between the bedrooms  and property value ?  "
   ]
  },
  {
   "cell_type": "code",
   "execution_count": 35,
   "id": "27c1088d",
   "metadata": {},
   "outputs": [
    {
     "data": {
      "text/plain": [
       "[Text(0.5, 1.0, 'Beds and Home Price')]"
      ]
     },
     "execution_count": 35,
     "metadata": {},
     "output_type": "execute_result"
    },
    {
     "data": {
      "image/png": "[encoded data removed]",
      "text/plain": [
       "<Figure size 432x288 with 1 Axes>"
      ]
     },
     "metadata": {
      "needs_background": "light"
     },
     "output_type": "display_data"
    }
   ],
   "source": [
    "# box plot Bedrooms vs Property value \n",
    "sns.boxplot(data=train, x='beds', y='property_value').set(title='Beds and Home Price')\n"
   ]
  },
  {
   "cell_type": "markdown",
   "id": "b071a06a",
   "metadata": {},
   "source": [
    "### Takeaways \n",
    "\n",
    "- There are a lot of outliers in each category of bedrooms \n",
    "- Most properties fall into the category of having 2 to 6 bedrooms"
   ]
  },
  {
   "cell_type": "markdown",
   "id": "e1292ffc",
   "metadata": {},
   "source": [
    "### Hypothesis: \n",
    "\n",
    "**Ho: There is no correlation between number of beds and property value.**<br>\n",
    "**Ha: There is a correlation between number of beds and property value.** \n"
   ]
  },
  {
   "cell_type": "code",
   "execution_count": 38,
   "id": "3ae336a7",
   "metadata": {},
   "outputs": [
    {
     "data": {
      "text/plain": [
       "(0.2675540808637161, 0.0)"
      ]
     },
     "execution_count": 38,
     "metadata": {},
     "output_type": "execute_result"
    }
   ],
   "source": [
    "# Statistical test results \n",
    "corr, p = stats.pearsonr(train.beds, train.property_value)\n",
    "\n",
    "corr, p"
   ]
  },
  {
   "cell_type": "markdown",
   "id": "f5599797",
   "metadata": {},
   "source": [
    "### Takeaways \n",
    "- Bedrooms has a weak positive correlation to the property value "
   ]
  },
  {
   "cell_type": "markdown",
   "id": "5b0be131",
   "metadata": {},
   "source": [
    "### Is there a correlation between the bathrooms  and property value ?  "
   ]
  },
  {
   "cell_type": "code",
   "execution_count": 41,
   "id": "3d05d212",
   "metadata": {},
   "outputs": [
    {
     "data": {
      "text/plain": [
       "[Text(0.5, 1.0, 'Baths and Home Price')]"
      ]
     },
     "execution_count": 41,
     "metadata": {},
     "output_type": "execute_result"
    },
    {
     "data": {
      "image/png": "[encoded data removed]",
      "text/plain": [
       "<Figure size 432x288 with 1 Axes>"
      ]
     },
     "metadata": {
      "needs_background": "light"
     },
     "output_type": "display_data"
    }
   ],
   "source": [
    "# box plot Bathrooms vs Property value \n",
    "sns.boxplot(data=train, x='baths', y='property_value').set(title='Baths and Home Price')"
   ]
  },
  {
   "cell_type": "code",
   "execution_count": 42,
   "id": "859f283c",
   "metadata": {},
   "outputs": [
    {
     "data": {
      "text/plain": [
       "(0.5155507725487769, 0.0)"
      ]
     },
     "execution_count": 42,
     "metadata": {},
     "output_type": "execute_result"
    }
   ],
   "source": [
    "corr, p = stats.pearsonr(train.baths, train.property_value)\n",
    "\n",
    "corr, p"
   ]
  },
  {
   "cell_type": "markdown",
   "id": "8ea21049",
   "metadata": {},
   "source": [
    "### Hypothesis: \n",
    "\n",
    "**Ho: There is no correlation between number of baths and property value.**<br>\n",
    "**Ha: There is a correlation between number of baths and property value.** \n"
   ]
  },
  {
   "cell_type": "markdown",
   "id": "c59eb250",
   "metadata": {},
   "source": [
    "### Takeaways\n",
    "\n",
    "There is a positive correlation between bathrooms and property value"
   ]
  },
  {
   "cell_type": "markdown",
   "id": "ad3e5c3f",
   "metadata": {},
   "source": [
    "### Is there a correlation between the room count and property value ?  "
   ]
  },
  {
   "cell_type": "code",
   "execution_count": 68,
   "id": "fb849fc0",
   "metadata": {},
   "outputs": [
    {
     "data": {
      "text/plain": [
       "[Text(0.5, 1.0, 'Rooms and Home Price')]"
      ]
     },
     "execution_count": 68,
     "metadata": {},
     "output_type": "execute_result"
    },
    {
     "data": {
      "image/png": "[encoded data removed]",
      "text/plain": [
       "<Figure size 432x288 with 1 Axes>"
      ]
     },
     "metadata": {
      "needs_background": "light"
     },
     "output_type": "display_data"
    }
   ],
   "source": [
    "# box plot Bathrooms vs Property value \n",
    "sns.boxplot(data=train, x='rooms_count', y='property_value').set(title='Rooms and Home Price')"
   ]
  },
  {
   "cell_type": "markdown",
   "id": "ae8b47b8",
   "metadata": {},
   "source": [
    "### Takeaways\n",
    "\n",
    "- The mean price of properties is increasing as the number of rooms increase "
   ]
  },
  {
   "cell_type": "markdown",
   "id": "7d5ac56b",
   "metadata": {},
   "source": [
    "### Hypothesis\n",
    "\n",
    "**Ho: TThere is no correlation between number of rooms and property value.**<br>\n",
    "**Ha: There is a correlation between number of rooms and property value.** "
   ]
  },
  {
   "cell_type": "code",
   "execution_count": 69,
   "id": "c4da7455",
   "metadata": {},
   "outputs": [
    {
     "data": {
      "text/plain": [
       "(0.4393310714371398, 0.0)"
      ]
     },
     "execution_count": 69,
     "metadata": {},
     "output_type": "execute_result"
    }
   ],
   "source": [
    "corr, p = stats.pearsonr(train.rooms_count, train.property_value)\n",
    "\n",
    "corr, p"
   ]
  },
  {
   "cell_type": "markdown",
   "id": "3f0b2a30",
   "metadata": {},
   "source": [
    "### Takeaways\n",
    "- there is positive correlation between total rooms in a home and property value"
   ]
  },
  {
   "cell_type": "markdown",
   "id": "7eb55ddb",
   "metadata": {},
   "source": [
    "## Exploration Summary\n",
    "\n",
    "* Median price is 371,456 \n",
    "* Mean property value is 518,710\n",
    "* 50% of home values are above and below 371,456 and do not exceed 2\n",
    "* The difference between Mean and Median is 147,254\n",
    "* The features used for modeling will be baths, beds, sqft and fips\n",
    "* The statistical tests provide support that there is a correlation between Property value and baths, beds, sqft\n",
    "* Statistical testing supports a significant relationship between fips code and property value \n"
   ]
  },
  {
   "cell_type": "markdown",
   "id": "0d6eb911",
   "metadata": {},
   "source": [
    "## Features included in Models\n",
    "\n",
    "* The features for my models are baths, beds, sqft and fips\n",
    "* These features showed an association with property value after completing my statistical tests"
   ]
  },
  {
   "cell_type": "markdown",
   "id": "e1be3aa8",
   "metadata": {},
   "source": [
    "## Features NOT included in Model\n",
    "\n",
    "* Rooms count will not be included in my Model\n",
    "* There was a correlation to property value and rooms but it was not strong compared to the other  an association between Phone Service and Churn based on the statistical test."
   ]
  },
  {
   "cell_type": "markdown",
   "id": "4c14a7ec",
   "metadata": {},
   "source": [
    "## Modeling"
   ]
  },
  {
   "cell_type": "markdown",
   "id": "d9e40702",
   "metadata": {},
   "source": [
    "### Introduction\n",
    "\n",
    "* I will use accuracy as my evaluation metric because I do not have a monetary value to associate with the churn of a customer\n",
    "* ~ 73% of customers don't churn \n",
    "* My baseline model assumes every customer does not churn and this results in an accuracy of 73%\n",
    "* Models will be evaluated on train and validate data sets \n",
    "* The model that performs the best will be evaluated on the test data"
   ]
  },
  {
   "cell_type": "markdown",
   "id": "057e98d6",
   "metadata": {},
   "source": [
    "# establish baseline model\n",
    "m.baseline(train)"
   ]
  },
  {
   "cell_type": "markdown",
   "id": "5e5e1fc5",
   "metadata": {},
   "source": [
    "## Best Models"
   ]
  },
  {
   "cell_type": "markdown",
   "id": "d6255aa7",
   "metadata": {},
   "source": [
    "# prepare data for models\n",
    "X_train, X_validate, y_train, y_validate, X_test, y_test = m.model_columns(train,validate,test)"
   ]
  },
  {
   "cell_type": "markdown",
   "id": "3321f8a0",
   "metadata": {},
   "source": [
    "### Decision Tree  - Model 1"
   ]
  },
  {
   "cell_type": "code",
   "execution_count": null,
   "id": "71091954",
   "metadata": {},
   "outputs": [],
   "source": [
    "# test model on train and validate data \n",
    "m.decision_tree_model(X_train, X_validate, y_train, y_validate)"
   ]
  },
  {
   "cell_type": "markdown",
   "id": "29d10844",
   "metadata": {},
   "source": [
    "### Random Forrest - Model 2"
   ]
  },
  {
   "cell_type": "markdown",
   "id": "d361e95b",
   "metadata": {},
   "source": [
    "### Knn - Model 3 "
   ]
  },
  {
   "cell_type": "markdown",
   "id": "475a6f35",
   "metadata": {},
   "source": [
    "### Logistic Regression - Model 4"
   ]
  },
  {
   "cell_type": "markdown",
   "id": "1d99c0f8",
   "metadata": {},
   "source": [
    "## Test Model\n",
    "* I will run my logistic regression model on my test data"
   ]
  },
  {
   "cell_type": "markdown",
   "id": "c9b1380f",
   "metadata": {},
   "source": [
    "### Modeling Wrap \n",
    "\n",
    "* I would recommend this model for production because it does not over fit the data and it performs 4% better than the baseline"
   ]
  },
  {
   "cell_type": "markdown",
   "id": "dd7ba79c",
   "metadata": {},
   "source": [
    "## Conclusion\n",
    "\n",
    "### Summary\n",
    "* 26% of customers churn \n",
    "* Statistical evidence supports an association between churn and tech support, internet service, fiber optic internet and contract type respectively \n",
    "* The drivers I used were supported by statistical tests and I believe this is why my final model was able to perform above the baseline\n",
    "* There is not an association between phone service and churn \n",
    "\n",
    "\n",
    "### Modeling Summary \n",
    "* The final model performed 4% better than the baseline\n",
    "* I would recommend this model for production because it does not over fit the data and and performed better than baseline\n",
    "\n",
    "\n",
    "### Recommendations\n",
    "* Gather qualitative and quantitative data from customer's about the performance of the fiber optic internet \n",
    "* Solicit for quantitative and qualitative data on why customer's select month to month contracts \n",
    "* Review incentives offered for each contract type. \n",
    "\n",
    "### Next Steps\n",
    "* I would like to use the financial data to determine the mean value of churn per customer\n",
    "* Look for more drivers to develop a better performing model "
   ]
  },
  {
   "cell_type": "code",
   "execution_count": null,
   "id": "b98cfa2d",
   "metadata": {},
   "outputs": [],
   "source": []
  },
  {
   "cell_type": "code",
   "execution_count": null,
   "id": "758cd102",
   "metadata": {},
   "outputs": [],
   "source": []
  }
 ],
 "metadata": {
  "kernelspec": {
   "display_name": "Python 3 (ipykernel)",
   "language": "python",
   "name": "python3"
  },
  "language_info": {
   "codemirror_mode": {
    "name": "ipython",
    "version": 3
   },
   "file_extension": ".py",
   "mimetype": "text/x-python",
   "name": "python",
   "nbconvert_exporter": "python",
   "pygments_lexer": "ipython3",
   "version": "3.9.12"
  }
 },
 "nbformat": 4,
 "nbformat_minor": 5
}
