{
 "cells": [
  {
   "cell_type": "code",
   "execution_count": 90,
   "id": "6bb88cf0",
   "metadata": {},
   "outputs": [],
   "source": [
    "import pandas as pd\n",
    "import numpy as np\n",
    "from math import sqrt\n",
    "from sklearn.metrics import r2_score\n",
    "\n",
    "import matplotlib.pyplot as plt\n",
    "import seaborn as sns\n",
    "from sklearn.linear_model import LinearRegression\n",
    "import wrangle as w\n",
    "from sklearn.model_selection import train_test_split\n",
    "import sklearn.preprocessing\n",
    "from sklearn.metrics import mean_squared_error"
   ]
  },
  {
   "cell_type": "code",
   "execution_count": 2,
   "id": "46b57ca8",
   "metadata": {},
   "outputs": [],
   "source": [
    "# loading zillow dataset \n",
    "test,validate,train = w.wrangle_zillow()"
   ]
  },
  {
   "cell_type": "code",
   "execution_count": 20,
   "id": "09ec0751",
   "metadata": {},
   "outputs": [
    {
     "data": {
      "text/plain": [
       "Index(['bedrooms', 'bathrooms', 'area', 'year_built', 'property_value',\n",
       "       'taxamount', 'fips'],\n",
       "      dtype='object')"
      ]
     },
     "execution_count": 20,
     "metadata": {},
     "output_type": "execute_result"
    }
   ],
   "source": [
    "# listing column names \n",
    "test.columns"
   ]
  },
  {
   "cell_type": "code",
   "execution_count": 29,
   "id": "c8aa6265",
   "metadata": {
    "collapsed": true
   },
   "outputs": [
    {
     "name": "stdout",
     "output_type": "stream",
     "text": [
      "<class 'pandas.core.frame.DataFrame'>\n",
      "Int64Index: 784184 entries, 952179 to 763753\n",
      "Data columns (total 7 columns):\n",
      " #   Column          Non-Null Count   Dtype  \n",
      "---  ------          --------------   -----  \n",
      " 0   bedrooms        784184 non-null  float64\n",
      " 1   bathrooms       784184 non-null  float64\n",
      " 2   area            784184 non-null  float64\n",
      " 3   year_built      784184 non-null  float64\n",
      " 4   property_value  784184 non-null  float64\n",
      " 5   taxamount       784184 non-null  float64\n",
      " 6   fips            784184 non-null  float64\n",
      "dtypes: float64(7)\n",
      "memory usage: 47.9 MB\n"
     ]
    }
   ],
   "source": [
    "test.info()"
   ]
  },
  {
   "cell_type": "code",
   "execution_count": 104,
   "id": "37d72c14",
   "metadata": {},
   "outputs": [],
   "source": [
    "# defining X and Y variables for linear regression model\n",
    "X = train['area']\n",
    "y = train['property_value']"
   ]
  },
  {
   "cell_type": "code",
   "execution_count": 22,
   "id": "33e9a705",
   "metadata": {},
   "outputs": [
    {
     "data": {
      "image/png": "[encoded data removed]",
      "text/plain": [
       "<Figure size 432x288 with 1 Axes>"
      ]
     },
     "metadata": {
      "needs_background": "light"
     },
     "output_type": "display_data"
    }
   ],
   "source": [
    "# look at scatter of x vs y\n",
    "plt.scatter(train.area, train.property_value)\n",
    "\n",
    "plt.xlabel('x = area')\n",
    "plt.ylabel('y = property_value')\n",
    "plt.show()"
   ]
  },
  {
   "cell_type": "code",
   "execution_count": 32,
   "id": "7682256c",
   "metadata": {},
   "outputs": [],
   "source": [
    "# fitting X and y to linear regression model \n",
    "model = LinearRegression()"
   ]
  },
  {
   "cell_type": "code",
   "execution_count": 42,
   "id": "93fbfbb0",
   "metadata": {},
   "outputs": [
    {
     "data": {
      "text/plain": [
       "LinearRegression()"
      ]
     },
     "execution_count": 42,
     "metadata": {},
     "output_type": "execute_result"
    }
   ],
   "source": [
    "# double brackets changes x (train[area] into a data frame to fit model)\n",
    "model.fit(train[['area']],train['property_value'])"
   ]
  },
  {
   "cell_type": "code",
   "execution_count": 43,
   "id": "09c80245",
   "metadata": {},
   "outputs": [],
   "source": [
    "#generating predictions from X \n",
    "train['yhat'] = model.predict(train[['area']])"
   ]
  },
  {
   "cell_type": "code",
   "execution_count": 44,
   "id": "b71c97e1",
   "metadata": {},
   "outputs": [
    {
     "data": {
      "text/html": [
       "<div>\n",
       "<style scoped>\n",
       "    .dataframe tbody tr th:only-of-type {\n",
       "        vertical-align: middle;\n",
       "    }\n",
       "\n",
       "    .dataframe tbody tr th {\n",
       "        vertical-align: top;\n",
       "    }\n",
       "\n",
       "    .dataframe thead th {\n",
       "        text-align: right;\n",
       "    }\n",
       "</style>\n",
       "<table border=\"1\" class=\"dataframe\">\n",
       "  <thead>\n",
       "    <tr style=\"text-align: right;\">\n",
       "      <th></th>\n",
       "      <th>bedrooms</th>\n",
       "      <th>bathrooms</th>\n",
       "      <th>area</th>\n",
       "      <th>year_built</th>\n",
       "      <th>property_value</th>\n",
       "      <th>taxamount</th>\n",
       "      <th>fips</th>\n",
       "      <th>yhat</th>\n",
       "    </tr>\n",
       "  </thead>\n",
       "  <tbody>\n",
       "    <tr>\n",
       "      <th>1375137</th>\n",
       "      <td>3.0</td>\n",
       "      <td>2.0</td>\n",
       "      <td>1580.0</td>\n",
       "      <td>1959.0</td>\n",
       "      <td>148054.0</td>\n",
       "      <td>2227.03</td>\n",
       "      <td>6037.0</td>\n",
       "      <td>317304.616496</td>\n",
       "    </tr>\n",
       "    <tr>\n",
       "      <th>1771275</th>\n",
       "      <td>3.0</td>\n",
       "      <td>2.0</td>\n",
       "      <td>1656.0</td>\n",
       "      <td>1961.0</td>\n",
       "      <td>166220.0</td>\n",
       "      <td>2013.70</td>\n",
       "      <td>6111.0</td>\n",
       "      <td>328165.110283</td>\n",
       "    </tr>\n",
       "    <tr>\n",
       "      <th>42892</th>\n",
       "      <td>4.0</td>\n",
       "      <td>3.0</td>\n",
       "      <td>2307.0</td>\n",
       "      <td>1984.0</td>\n",
       "      <td>501897.0</td>\n",
       "      <td>6008.36</td>\n",
       "      <td>6037.0</td>\n",
       "      <td>421193.813649</td>\n",
       "    </tr>\n",
       "    <tr>\n",
       "      <th>939219</th>\n",
       "      <td>2.0</td>\n",
       "      <td>2.0</td>\n",
       "      <td>2073.0</td>\n",
       "      <td>1952.0</td>\n",
       "      <td>292877.0</td>\n",
       "      <td>4173.94</td>\n",
       "      <td>6037.0</td>\n",
       "      <td>387754.924882</td>\n",
       "    </tr>\n",
       "    <tr>\n",
       "      <th>743889</th>\n",
       "      <td>4.0</td>\n",
       "      <td>3.0</td>\n",
       "      <td>2438.0</td>\n",
       "      <td>1979.0</td>\n",
       "      <td>345427.0</td>\n",
       "      <td>4324.74</td>\n",
       "      <td>6037.0</td>\n",
       "      <td>439913.875310</td>\n",
       "    </tr>\n",
       "    <tr>\n",
       "      <th>...</th>\n",
       "      <td>...</td>\n",
       "      <td>...</td>\n",
       "      <td>...</td>\n",
       "      <td>...</td>\n",
       "      <td>...</td>\n",
       "      <td>...</td>\n",
       "      <td>...</td>\n",
       "      <td>...</td>\n",
       "    </tr>\n",
       "    <tr>\n",
       "      <th>1615633</th>\n",
       "      <td>3.0</td>\n",
       "      <td>2.0</td>\n",
       "      <td>1229.0</td>\n",
       "      <td>1984.0</td>\n",
       "      <td>129868.0</td>\n",
       "      <td>2438.31</td>\n",
       "      <td>6037.0</td>\n",
       "      <td>267146.283345</td>\n",
       "    </tr>\n",
       "    <tr>\n",
       "      <th>110276</th>\n",
       "      <td>3.0</td>\n",
       "      <td>2.5</td>\n",
       "      <td>2008.0</td>\n",
       "      <td>1979.0</td>\n",
       "      <td>282573.0</td>\n",
       "      <td>3544.58</td>\n",
       "      <td>6059.0</td>\n",
       "      <td>378466.344669</td>\n",
       "    </tr>\n",
       "    <tr>\n",
       "      <th>78611</th>\n",
       "      <td>4.0</td>\n",
       "      <td>2.0</td>\n",
       "      <td>1657.0</td>\n",
       "      <td>1962.0</td>\n",
       "      <td>65191.0</td>\n",
       "      <td>1037.97</td>\n",
       "      <td>6037.0</td>\n",
       "      <td>328308.011518</td>\n",
       "    </tr>\n",
       "    <tr>\n",
       "      <th>1667968</th>\n",
       "      <td>4.0</td>\n",
       "      <td>2.0</td>\n",
       "      <td>1917.0</td>\n",
       "      <td>1964.0</td>\n",
       "      <td>414523.0</td>\n",
       "      <td>4629.76</td>\n",
       "      <td>6059.0</td>\n",
       "      <td>365462.332370</td>\n",
       "    </tr>\n",
       "    <tr>\n",
       "      <th>51867</th>\n",
       "      <td>3.0</td>\n",
       "      <td>2.0</td>\n",
       "      <td>1242.0</td>\n",
       "      <td>1962.0</td>\n",
       "      <td>87739.0</td>\n",
       "      <td>1379.67</td>\n",
       "      <td>6037.0</td>\n",
       "      <td>269003.999387</td>\n",
       "    </tr>\n",
       "  </tbody>\n",
       "</table>\n",
       "<p>280066 rows × 8 columns</p>\n",
       "</div>"
      ],
      "text/plain": [
       "         bedrooms  bathrooms    area  year_built  property_value  taxamount  \\\n",
       "1375137       3.0        2.0  1580.0      1959.0        148054.0    2227.03   \n",
       "1771275       3.0        2.0  1656.0      1961.0        166220.0    2013.70   \n",
       "42892         4.0        3.0  2307.0      1984.0        501897.0    6008.36   \n",
       "939219        2.0        2.0  2073.0      1952.0        292877.0    4173.94   \n",
       "743889        4.0        3.0  2438.0      1979.0        345427.0    4324.74   \n",
       "...           ...        ...     ...         ...             ...        ...   \n",
       "1615633       3.0        2.0  1229.0      1984.0        129868.0    2438.31   \n",
       "110276        3.0        2.5  2008.0      1979.0        282573.0    3544.58   \n",
       "78611         4.0        2.0  1657.0      1962.0         65191.0    1037.97   \n",
       "1667968       4.0        2.0  1917.0      1964.0        414523.0    4629.76   \n",
       "51867         3.0        2.0  1242.0      1962.0         87739.0    1379.67   \n",
       "\n",
       "           fips           yhat  \n",
       "1375137  6037.0  317304.616496  \n",
       "1771275  6111.0  328165.110283  \n",
       "42892    6037.0  421193.813649  \n",
       "939219   6037.0  387754.924882  \n",
       "743889   6037.0  439913.875310  \n",
       "...         ...            ...  \n",
       "1615633  6037.0  267146.283345  \n",
       "110276   6059.0  378466.344669  \n",
       "78611    6037.0  328308.011518  \n",
       "1667968  6059.0  365462.332370  \n",
       "51867    6037.0  269003.999387  \n",
       "\n",
       "[280066 rows x 8 columns]"
      ]
     },
     "execution_count": 44,
     "metadata": {},
     "output_type": "execute_result"
    }
   ],
   "source": [
    "# updated dataframe with yhat\n",
    "train"
   ]
  },
  {
   "cell_type": "code",
   "execution_count": 47,
   "id": "fa9b0086",
   "metadata": {},
   "outputs": [],
   "source": [
    "# Create the residuals for linear regression model \n",
    "# actual - prediction for residual\n",
    "train['residual'] = train.property_value - train.yhat"
   ]
  },
  {
   "cell_type": "code",
   "execution_count": 105,
   "id": "d6e876e4",
   "metadata": {},
   "outputs": [
    {
     "data": {
      "text/plain": [
       "[<matplotlib.lines.Line2D at 0x1056f3430>]"
      ]
     },
     "execution_count": 105,
     "metadata": {},
     "output_type": "execute_result"
    },
    {
     "data": {
      "image/png": "[encoded data removed]",
      "text/plain": [
       "<Figure size 432x288 with 1 Axes>"
      ]
     },
     "metadata": {
      "needs_background": "light"
     },
     "output_type": "display_data"
    }
   ],
   "source": [
    "# create scatter plot to display residuals for the linear regression model\n",
    "# x should be property value\n",
    "plt.plot(train['property_value'], train['residual'], 'o')"
   ]
  },
  {
   "cell_type": "code",
   "execution_count": 71,
   "id": "d863d14f",
   "metadata": {},
   "outputs": [
    {
     "data": {
      "text/plain": [
       "9368250313166904.0"
      ]
     },
     "execution_count": 71,
     "metadata": {},
     "output_type": "execute_result"
    }
   ],
   "source": [
    "# sum of squared errors SSE \n",
    "SSE = sum(train['residual']**2)\n",
    "SSE"
   ]
  },
  {
   "cell_type": "code",
   "execution_count": 108,
   "id": "5f14b4d2",
   "metadata": {},
   "outputs": [
    {
     "data": {
      "text/plain": [
       "1292777709601996.5"
      ]
     },
     "execution_count": 108,
     "metadata": {},
     "output_type": "execute_result"
    }
   ],
   "source": [
    "# explained sum of squares ESS for model\n",
    "ESS = sum((train.yhat - train.property_value.mean())**2)\n",
    "ESS"
   ]
  },
  {
   "cell_type": "code",
   "execution_count": 73,
   "id": "f30b10b9",
   "metadata": {},
   "outputs": [
    {
     "data": {
      "text/plain": [
       "1.06610280227689e+16"
      ]
     },
     "execution_count": 73,
     "metadata": {},
     "output_type": "execute_result"
    }
   ],
   "source": [
    "# Calculate total sum of squares for model \n",
    "TSS = ESS + SSE\n",
    "TSS"
   ]
  },
  {
   "cell_type": "code",
   "execution_count": 74,
   "id": "111f4ca0",
   "metadata": {},
   "outputs": [
    {
     "data": {
      "text/plain": [
       "33450152154.016926"
      ]
     },
     "execution_count": 74,
     "metadata": {},
     "output_type": "execute_result"
    }
   ],
   "source": [
    "# calculate mean squared error for model\n",
    "MSE = SSE/len(train)\n",
    "MSE"
   ]
  },
  {
   "cell_type": "code",
   "execution_count": 75,
   "id": "96cdc035",
   "metadata": {},
   "outputs": [
    {
     "data": {
      "text/plain": [
       "182893.8275448817"
      ]
     },
     "execution_count": 75,
     "metadata": {},
     "output_type": "execute_result"
    }
   ],
   "source": [
    "# calculate root mean squared error for model\n",
    "RMSE = sqrt(MSE)\n",
    "RMSE"
   ]
  },
  {
   "cell_type": "code",
   "execution_count": 76,
   "id": "d208d19b",
   "metadata": {},
   "outputs": [
    {
     "data": {
      "text/html": [
       "<div>\n",
       "<style scoped>\n",
       "    .dataframe tbody tr th:only-of-type {\n",
       "        vertical-align: middle;\n",
       "    }\n",
       "\n",
       "    .dataframe tbody tr th {\n",
       "        vertical-align: top;\n",
       "    }\n",
       "\n",
       "    .dataframe thead th {\n",
       "        text-align: right;\n",
       "    }\n",
       "</style>\n",
       "<table border=\"1\" class=\"dataframe\">\n",
       "  <thead>\n",
       "    <tr style=\"text-align: right;\">\n",
       "      <th></th>\n",
       "      <th>bedrooms</th>\n",
       "      <th>bathrooms</th>\n",
       "      <th>area</th>\n",
       "      <th>year_built</th>\n",
       "      <th>property_value</th>\n",
       "      <th>taxamount</th>\n",
       "      <th>fips</th>\n",
       "      <th>yhat</th>\n",
       "      <th>residual</th>\n",
       "      <th>yhat_baseline</th>\n",
       "      <th>residual_baseline</th>\n",
       "    </tr>\n",
       "  </thead>\n",
       "  <tbody>\n",
       "    <tr>\n",
       "      <th>1375137</th>\n",
       "      <td>3.0</td>\n",
       "      <td>2.0</td>\n",
       "      <td>1580.0</td>\n",
       "      <td>1959.0</td>\n",
       "      <td>148054.0</td>\n",
       "      <td>2227.03</td>\n",
       "      <td>6037.0</td>\n",
       "      <td>317304.616496</td>\n",
       "      <td>-169250.616496</td>\n",
       "      <td>341923.816886</td>\n",
       "      <td>-193869.816886</td>\n",
       "    </tr>\n",
       "    <tr>\n",
       "      <th>1771275</th>\n",
       "      <td>3.0</td>\n",
       "      <td>2.0</td>\n",
       "      <td>1656.0</td>\n",
       "      <td>1961.0</td>\n",
       "      <td>166220.0</td>\n",
       "      <td>2013.70</td>\n",
       "      <td>6111.0</td>\n",
       "      <td>328165.110283</td>\n",
       "      <td>-161945.110283</td>\n",
       "      <td>341923.816886</td>\n",
       "      <td>-175703.816886</td>\n",
       "    </tr>\n",
       "    <tr>\n",
       "      <th>42892</th>\n",
       "      <td>4.0</td>\n",
       "      <td>3.0</td>\n",
       "      <td>2307.0</td>\n",
       "      <td>1984.0</td>\n",
       "      <td>501897.0</td>\n",
       "      <td>6008.36</td>\n",
       "      <td>6037.0</td>\n",
       "      <td>421193.813649</td>\n",
       "      <td>80703.186351</td>\n",
       "      <td>341923.816886</td>\n",
       "      <td>159973.183114</td>\n",
       "    </tr>\n",
       "    <tr>\n",
       "      <th>939219</th>\n",
       "      <td>2.0</td>\n",
       "      <td>2.0</td>\n",
       "      <td>2073.0</td>\n",
       "      <td>1952.0</td>\n",
       "      <td>292877.0</td>\n",
       "      <td>4173.94</td>\n",
       "      <td>6037.0</td>\n",
       "      <td>387754.924882</td>\n",
       "      <td>-94877.924882</td>\n",
       "      <td>341923.816886</td>\n",
       "      <td>-49046.816886</td>\n",
       "    </tr>\n",
       "    <tr>\n",
       "      <th>743889</th>\n",
       "      <td>4.0</td>\n",
       "      <td>3.0</td>\n",
       "      <td>2438.0</td>\n",
       "      <td>1979.0</td>\n",
       "      <td>345427.0</td>\n",
       "      <td>4324.74</td>\n",
       "      <td>6037.0</td>\n",
       "      <td>439913.875310</td>\n",
       "      <td>-94486.875310</td>\n",
       "      <td>341923.816886</td>\n",
       "      <td>3503.183114</td>\n",
       "    </tr>\n",
       "    <tr>\n",
       "      <th>...</th>\n",
       "      <td>...</td>\n",
       "      <td>...</td>\n",
       "      <td>...</td>\n",
       "      <td>...</td>\n",
       "      <td>...</td>\n",
       "      <td>...</td>\n",
       "      <td>...</td>\n",
       "      <td>...</td>\n",
       "      <td>...</td>\n",
       "      <td>...</td>\n",
       "      <td>...</td>\n",
       "    </tr>\n",
       "    <tr>\n",
       "      <th>1615633</th>\n",
       "      <td>3.0</td>\n",
       "      <td>2.0</td>\n",
       "      <td>1229.0</td>\n",
       "      <td>1984.0</td>\n",
       "      <td>129868.0</td>\n",
       "      <td>2438.31</td>\n",
       "      <td>6037.0</td>\n",
       "      <td>267146.283345</td>\n",
       "      <td>-137278.283345</td>\n",
       "      <td>341923.816886</td>\n",
       "      <td>-212055.816886</td>\n",
       "    </tr>\n",
       "    <tr>\n",
       "      <th>110276</th>\n",
       "      <td>3.0</td>\n",
       "      <td>2.5</td>\n",
       "      <td>2008.0</td>\n",
       "      <td>1979.0</td>\n",
       "      <td>282573.0</td>\n",
       "      <td>3544.58</td>\n",
       "      <td>6059.0</td>\n",
       "      <td>378466.344669</td>\n",
       "      <td>-95893.344669</td>\n",
       "      <td>341923.816886</td>\n",
       "      <td>-59350.816886</td>\n",
       "    </tr>\n",
       "    <tr>\n",
       "      <th>78611</th>\n",
       "      <td>4.0</td>\n",
       "      <td>2.0</td>\n",
       "      <td>1657.0</td>\n",
       "      <td>1962.0</td>\n",
       "      <td>65191.0</td>\n",
       "      <td>1037.97</td>\n",
       "      <td>6037.0</td>\n",
       "      <td>328308.011518</td>\n",
       "      <td>-263117.011518</td>\n",
       "      <td>341923.816886</td>\n",
       "      <td>-276732.816886</td>\n",
       "    </tr>\n",
       "    <tr>\n",
       "      <th>1667968</th>\n",
       "      <td>4.0</td>\n",
       "      <td>2.0</td>\n",
       "      <td>1917.0</td>\n",
       "      <td>1964.0</td>\n",
       "      <td>414523.0</td>\n",
       "      <td>4629.76</td>\n",
       "      <td>6059.0</td>\n",
       "      <td>365462.332370</td>\n",
       "      <td>49060.667630</td>\n",
       "      <td>341923.816886</td>\n",
       "      <td>72599.183114</td>\n",
       "    </tr>\n",
       "    <tr>\n",
       "      <th>51867</th>\n",
       "      <td>3.0</td>\n",
       "      <td>2.0</td>\n",
       "      <td>1242.0</td>\n",
       "      <td>1962.0</td>\n",
       "      <td>87739.0</td>\n",
       "      <td>1379.67</td>\n",
       "      <td>6037.0</td>\n",
       "      <td>269003.999387</td>\n",
       "      <td>-181264.999387</td>\n",
       "      <td>341923.816886</td>\n",
       "      <td>-254184.816886</td>\n",
       "    </tr>\n",
       "  </tbody>\n",
       "</table>\n",
       "<p>280066 rows × 11 columns</p>\n",
       "</div>"
      ],
      "text/plain": [
       "         bedrooms  bathrooms    area  year_built  property_value  taxamount  \\\n",
       "1375137       3.0        2.0  1580.0      1959.0        148054.0    2227.03   \n",
       "1771275       3.0        2.0  1656.0      1961.0        166220.0    2013.70   \n",
       "42892         4.0        3.0  2307.0      1984.0        501897.0    6008.36   \n",
       "939219        2.0        2.0  2073.0      1952.0        292877.0    4173.94   \n",
       "743889        4.0        3.0  2438.0      1979.0        345427.0    4324.74   \n",
       "...           ...        ...     ...         ...             ...        ...   \n",
       "1615633       3.0        2.0  1229.0      1984.0        129868.0    2438.31   \n",
       "110276        3.0        2.5  2008.0      1979.0        282573.0    3544.58   \n",
       "78611         4.0        2.0  1657.0      1962.0         65191.0    1037.97   \n",
       "1667968       4.0        2.0  1917.0      1964.0        414523.0    4629.76   \n",
       "51867         3.0        2.0  1242.0      1962.0         87739.0    1379.67   \n",
       "\n",
       "           fips           yhat       residual  yhat_baseline  \\\n",
       "1375137  6037.0  317304.616496 -169250.616496  341923.816886   \n",
       "1771275  6111.0  328165.110283 -161945.110283  341923.816886   \n",
       "42892    6037.0  421193.813649   80703.186351  341923.816886   \n",
       "939219   6037.0  387754.924882  -94877.924882  341923.816886   \n",
       "743889   6037.0  439913.875310  -94486.875310  341923.816886   \n",
       "...         ...            ...            ...            ...   \n",
       "1615633  6037.0  267146.283345 -137278.283345  341923.816886   \n",
       "110276   6059.0  378466.344669  -95893.344669  341923.816886   \n",
       "78611    6037.0  328308.011518 -263117.011518  341923.816886   \n",
       "1667968  6059.0  365462.332370   49060.667630  341923.816886   \n",
       "51867    6037.0  269003.999387 -181264.999387  341923.816886   \n",
       "\n",
       "         residual_baseline  \n",
       "1375137     -193869.816886  \n",
       "1771275     -175703.816886  \n",
       "42892        159973.183114  \n",
       "939219       -49046.816886  \n",
       "743889         3503.183114  \n",
       "...                    ...  \n",
       "1615633     -212055.816886  \n",
       "110276       -59350.816886  \n",
       "78611       -276732.816886  \n",
       "1667968       72599.183114  \n",
       "51867       -254184.816886  \n",
       "\n",
       "[280066 rows x 11 columns]"
      ]
     },
     "execution_count": 76,
     "metadata": {},
     "output_type": "execute_result"
    }
   ],
   "source": [
    "# Create baseline model with mean of target variable (property value)\n",
    "train['yhat_baseline'] = train.property_value.mean()\n",
    "train"
   ]
  },
  {
   "cell_type": "code",
   "execution_count": 77,
   "id": "663933ca",
   "metadata": {},
   "outputs": [
    {
     "data": {
      "text/html": [
       "<div>\n",
       "<style scoped>\n",
       "    .dataframe tbody tr th:only-of-type {\n",
       "        vertical-align: middle;\n",
       "    }\n",
       "\n",
       "    .dataframe tbody tr th {\n",
       "        vertical-align: top;\n",
       "    }\n",
       "\n",
       "    .dataframe thead th {\n",
       "        text-align: right;\n",
       "    }\n",
       "</style>\n",
       "<table border=\"1\" class=\"dataframe\">\n",
       "  <thead>\n",
       "    <tr style=\"text-align: right;\">\n",
       "      <th></th>\n",
       "      <th>bedrooms</th>\n",
       "      <th>bathrooms</th>\n",
       "      <th>area</th>\n",
       "      <th>year_built</th>\n",
       "      <th>property_value</th>\n",
       "      <th>taxamount</th>\n",
       "      <th>fips</th>\n",
       "      <th>yhat</th>\n",
       "      <th>residual</th>\n",
       "      <th>yhat_baseline</th>\n",
       "      <th>residual_baseline</th>\n",
       "    </tr>\n",
       "  </thead>\n",
       "  <tbody>\n",
       "    <tr>\n",
       "      <th>1375137</th>\n",
       "      <td>3.0</td>\n",
       "      <td>2.0</td>\n",
       "      <td>1580.0</td>\n",
       "      <td>1959.0</td>\n",
       "      <td>148054.0</td>\n",
       "      <td>2227.03</td>\n",
       "      <td>6037.0</td>\n",
       "      <td>317304.616496</td>\n",
       "      <td>-169250.616496</td>\n",
       "      <td>341923.816886</td>\n",
       "      <td>-193869.816886</td>\n",
       "    </tr>\n",
       "    <tr>\n",
       "      <th>1771275</th>\n",
       "      <td>3.0</td>\n",
       "      <td>2.0</td>\n",
       "      <td>1656.0</td>\n",
       "      <td>1961.0</td>\n",
       "      <td>166220.0</td>\n",
       "      <td>2013.70</td>\n",
       "      <td>6111.0</td>\n",
       "      <td>328165.110283</td>\n",
       "      <td>-161945.110283</td>\n",
       "      <td>341923.816886</td>\n",
       "      <td>-175703.816886</td>\n",
       "    </tr>\n",
       "    <tr>\n",
       "      <th>42892</th>\n",
       "      <td>4.0</td>\n",
       "      <td>3.0</td>\n",
       "      <td>2307.0</td>\n",
       "      <td>1984.0</td>\n",
       "      <td>501897.0</td>\n",
       "      <td>6008.36</td>\n",
       "      <td>6037.0</td>\n",
       "      <td>421193.813649</td>\n",
       "      <td>80703.186351</td>\n",
       "      <td>341923.816886</td>\n",
       "      <td>159973.183114</td>\n",
       "    </tr>\n",
       "    <tr>\n",
       "      <th>939219</th>\n",
       "      <td>2.0</td>\n",
       "      <td>2.0</td>\n",
       "      <td>2073.0</td>\n",
       "      <td>1952.0</td>\n",
       "      <td>292877.0</td>\n",
       "      <td>4173.94</td>\n",
       "      <td>6037.0</td>\n",
       "      <td>387754.924882</td>\n",
       "      <td>-94877.924882</td>\n",
       "      <td>341923.816886</td>\n",
       "      <td>-49046.816886</td>\n",
       "    </tr>\n",
       "    <tr>\n",
       "      <th>743889</th>\n",
       "      <td>4.0</td>\n",
       "      <td>3.0</td>\n",
       "      <td>2438.0</td>\n",
       "      <td>1979.0</td>\n",
       "      <td>345427.0</td>\n",
       "      <td>4324.74</td>\n",
       "      <td>6037.0</td>\n",
       "      <td>439913.875310</td>\n",
       "      <td>-94486.875310</td>\n",
       "      <td>341923.816886</td>\n",
       "      <td>3503.183114</td>\n",
       "    </tr>\n",
       "    <tr>\n",
       "      <th>...</th>\n",
       "      <td>...</td>\n",
       "      <td>...</td>\n",
       "      <td>...</td>\n",
       "      <td>...</td>\n",
       "      <td>...</td>\n",
       "      <td>...</td>\n",
       "      <td>...</td>\n",
       "      <td>...</td>\n",
       "      <td>...</td>\n",
       "      <td>...</td>\n",
       "      <td>...</td>\n",
       "    </tr>\n",
       "    <tr>\n",
       "      <th>1615633</th>\n",
       "      <td>3.0</td>\n",
       "      <td>2.0</td>\n",
       "      <td>1229.0</td>\n",
       "      <td>1984.0</td>\n",
       "      <td>129868.0</td>\n",
       "      <td>2438.31</td>\n",
       "      <td>6037.0</td>\n",
       "      <td>267146.283345</td>\n",
       "      <td>-137278.283345</td>\n",
       "      <td>341923.816886</td>\n",
       "      <td>-212055.816886</td>\n",
       "    </tr>\n",
       "    <tr>\n",
       "      <th>110276</th>\n",
       "      <td>3.0</td>\n",
       "      <td>2.5</td>\n",
       "      <td>2008.0</td>\n",
       "      <td>1979.0</td>\n",
       "      <td>282573.0</td>\n",
       "      <td>3544.58</td>\n",
       "      <td>6059.0</td>\n",
       "      <td>378466.344669</td>\n",
       "      <td>-95893.344669</td>\n",
       "      <td>341923.816886</td>\n",
       "      <td>-59350.816886</td>\n",
       "    </tr>\n",
       "    <tr>\n",
       "      <th>78611</th>\n",
       "      <td>4.0</td>\n",
       "      <td>2.0</td>\n",
       "      <td>1657.0</td>\n",
       "      <td>1962.0</td>\n",
       "      <td>65191.0</td>\n",
       "      <td>1037.97</td>\n",
       "      <td>6037.0</td>\n",
       "      <td>328308.011518</td>\n",
       "      <td>-263117.011518</td>\n",
       "      <td>341923.816886</td>\n",
       "      <td>-276732.816886</td>\n",
       "    </tr>\n",
       "    <tr>\n",
       "      <th>1667968</th>\n",
       "      <td>4.0</td>\n",
       "      <td>2.0</td>\n",
       "      <td>1917.0</td>\n",
       "      <td>1964.0</td>\n",
       "      <td>414523.0</td>\n",
       "      <td>4629.76</td>\n",
       "      <td>6059.0</td>\n",
       "      <td>365462.332370</td>\n",
       "      <td>49060.667630</td>\n",
       "      <td>341923.816886</td>\n",
       "      <td>72599.183114</td>\n",
       "    </tr>\n",
       "    <tr>\n",
       "      <th>51867</th>\n",
       "      <td>3.0</td>\n",
       "      <td>2.0</td>\n",
       "      <td>1242.0</td>\n",
       "      <td>1962.0</td>\n",
       "      <td>87739.0</td>\n",
       "      <td>1379.67</td>\n",
       "      <td>6037.0</td>\n",
       "      <td>269003.999387</td>\n",
       "      <td>-181264.999387</td>\n",
       "      <td>341923.816886</td>\n",
       "      <td>-254184.816886</td>\n",
       "    </tr>\n",
       "  </tbody>\n",
       "</table>\n",
       "<p>280066 rows × 11 columns</p>\n",
       "</div>"
      ],
      "text/plain": [
       "         bedrooms  bathrooms    area  year_built  property_value  taxamount  \\\n",
       "1375137       3.0        2.0  1580.0      1959.0        148054.0    2227.03   \n",
       "1771275       3.0        2.0  1656.0      1961.0        166220.0    2013.70   \n",
       "42892         4.0        3.0  2307.0      1984.0        501897.0    6008.36   \n",
       "939219        2.0        2.0  2073.0      1952.0        292877.0    4173.94   \n",
       "743889        4.0        3.0  2438.0      1979.0        345427.0    4324.74   \n",
       "...           ...        ...     ...         ...             ...        ...   \n",
       "1615633       3.0        2.0  1229.0      1984.0        129868.0    2438.31   \n",
       "110276        3.0        2.5  2008.0      1979.0        282573.0    3544.58   \n",
       "78611         4.0        2.0  1657.0      1962.0         65191.0    1037.97   \n",
       "1667968       4.0        2.0  1917.0      1964.0        414523.0    4629.76   \n",
       "51867         3.0        2.0  1242.0      1962.0         87739.0    1379.67   \n",
       "\n",
       "           fips           yhat       residual  yhat_baseline  \\\n",
       "1375137  6037.0  317304.616496 -169250.616496  341923.816886   \n",
       "1771275  6111.0  328165.110283 -161945.110283  341923.816886   \n",
       "42892    6037.0  421193.813649   80703.186351  341923.816886   \n",
       "939219   6037.0  387754.924882  -94877.924882  341923.816886   \n",
       "743889   6037.0  439913.875310  -94486.875310  341923.816886   \n",
       "...         ...            ...            ...            ...   \n",
       "1615633  6037.0  267146.283345 -137278.283345  341923.816886   \n",
       "110276   6059.0  378466.344669  -95893.344669  341923.816886   \n",
       "78611    6037.0  328308.011518 -263117.011518  341923.816886   \n",
       "1667968  6059.0  365462.332370   49060.667630  341923.816886   \n",
       "51867    6037.0  269003.999387 -181264.999387  341923.816886   \n",
       "\n",
       "         residual_baseline  \n",
       "1375137     -193869.816886  \n",
       "1771275     -175703.816886  \n",
       "42892        159973.183114  \n",
       "939219       -49046.816886  \n",
       "743889         3503.183114  \n",
       "...                    ...  \n",
       "1615633     -212055.816886  \n",
       "110276       -59350.816886  \n",
       "78611       -276732.816886  \n",
       "1667968       72599.183114  \n",
       "51867       -254184.816886  \n",
       "\n",
       "[280066 rows x 11 columns]"
      ]
     },
     "execution_count": 77,
     "metadata": {},
     "output_type": "execute_result"
    }
   ],
   "source": [
    "# create residuals for baseline model \n",
    "train['residual_baseline'] = train.property_value - train.yhat_baseline\n",
    "train\n"
   ]
  },
  {
   "cell_type": "code",
   "execution_count": 78,
   "id": "1c06fa40",
   "metadata": {},
   "outputs": [
    {
     "data": {
      "text/plain": [
       "1.066102802276947e+16"
      ]
     },
     "execution_count": 78,
     "metadata": {},
     "output_type": "execute_result"
    }
   ],
   "source": [
    "# calculate sum of squared errors for baseline model\n",
    "SSE_baseline = sum(train['residual_baseline']**2)\n",
    "SSE_baseline"
   ]
  },
  {
   "cell_type": "code",
   "execution_count": 81,
   "id": "196cf130",
   "metadata": {},
   "outputs": [
    {
     "data": {
      "text/plain": [
       "38066127351.30102"
      ]
     },
     "execution_count": 81,
     "metadata": {},
     "output_type": "execute_result"
    }
   ],
   "source": [
    "# calculate mean squared error  for baseline model\n",
    "MSE_baseline = SSE_baseline/len(train)\n",
    "MSE_baseline"
   ]
  },
  {
   "cell_type": "code",
   "execution_count": 82,
   "id": "c15ae695",
   "metadata": {},
   "outputs": [
    {
     "data": {
      "text/plain": [
       "195105.42624771106"
      ]
     },
     "execution_count": 82,
     "metadata": {},
     "output_type": "execute_result"
    }
   ],
   "source": [
    "# calculate root mean squared error for baseline model\n",
    "RMSE_baseline = sqrt(MSE_baseline)\n",
    "RMSE_baseline"
   ]
  },
  {
   "cell_type": "code",
   "execution_count": 88,
   "id": "19a59959",
   "metadata": {},
   "outputs": [
    {
     "name": "stdout",
     "output_type": "stream",
     "text": [
      "Sum of Squared error Model: {9368250313166904.0}\n",
      "Sum of Squared error Baseline Model: {1.066102802276947e+16}\n"
     ]
    }
   ],
   "source": [
    "# compare the sum of squared errors between model and baseline model \n",
    "print(\"Sum of Squared error Model:\",{SSE})\n",
    "print(\"Sum of Squared error Baseline Model:\",{SSE_baseline})\n"
   ]
  },
  {
   "cell_type": "code",
   "execution_count": 97,
   "id": "ef7b0230",
   "metadata": {},
   "outputs": [],
   "source": [
    "# funcion to determine best model \n",
    "def choose_best_model(SSE,SSE_baseline):\n",
    "    if SSE > SSE_baseline:\n",
    "        print('Baseline model outperforms my model')\n",
    "    else:\n",
    "        print('My model outperforms baseline model')\n"
   ]
  },
  {
   "cell_type": "code",
   "execution_count": 98,
   "id": "761ec0e1",
   "metadata": {},
   "outputs": [
    {
     "name": "stdout",
     "output_type": "stream",
     "text": [
      "My model outperforms baseline model\n"
     ]
    }
   ],
   "source": [
    "choose_best_model(SSE,SSE_baseline)"
   ]
  },
  {
   "cell_type": "code",
   "execution_count": 91,
   "id": "dec4b638",
   "metadata": {},
   "outputs": [
    {
     "data": {
      "text/plain": [
       "0.12126201214753829"
      ]
     },
     "execution_count": 91,
     "metadata": {},
     "output_type": "execute_result"
    }
   ],
   "source": [
    "# what is the amount of variance explained in model\n",
    "#use r2_score\n",
    "r2_score(train.property_value, train.yhat)\n"
   ]
  },
  {
   "cell_type": "code",
   "execution_count": 92,
   "id": "9ee57f48",
   "metadata": {},
   "outputs": [
    {
     "data": {
      "text/plain": [
       "0.0"
      ]
     },
     "execution_count": 92,
     "metadata": {},
     "output_type": "execute_result"
    }
   ],
   "source": [
    "#use r2_score\n",
    "r2_score(train.property_value, train.yhat_baseline)"
   ]
  },
  {
   "cell_type": "code",
   "execution_count": null,
   "id": "32722975",
   "metadata": {},
   "outputs": [],
   "source": [
    "# Is your model better than the baseline model \n",
    "\n",
    "My model is better, I have a lower RSME"
   ]
  },
  {
   "cell_type": "code",
   "execution_count": 103,
   "id": "33b75e14",
   "metadata": {},
   "outputs": [],
   "source": [
    "# create functions for evaluate.py\n",
    "def plot_residuals(df,y,yhat):\n",
    "    '''This function will plot the residual plot'''\n",
    "    plt.plot(df['y'], train['yhat'], 'o')\n",
    "    \n",
    "def regression_errors(df,target,residual):\n",
    "    '''returns the sum of squared errors, explained sum of squares, \n",
    "    total sum of squares, mean squared error, root mean squared error'''\n",
    "    \n",
    "    #calculates sum of squared errors\n",
    "    SSE = sum(train.residual**2)\n",
    "    print(\"Sum of Squared errors:\",{SSE}) \n",
    "    \n",
    "    #calculate explained sum of squares \n",
    "    ESS = sum((train.residual - train.target.mean())**2)\n",
    "    print(\"Explained Sum of Squares:\",{ESS}) \n",
    "    \n",
    "    #calculate total sum of squares \n",
    "    TSS = ESS + SSE\n",
    "    print(\"Total Sum of Squares:\",{TSS})\n",
    "        \n",
    "    #calculate mean squared error \n",
    "    MSE = SSE/len(df)\n",
    "    print(\"Mean Squared Error:\",{MSE})\n",
    "    \n",
    "    #calculate root mean squared error \n",
    "    RMSE = sqrt(MSE)\n",
    "    print(\"Root Mean Squared Error:\",{RMSE})\n",
    "        \n",
    "def baseline_mean_errors(y):\n",
    "    '''returns the sum of squared errors, explained sum of squares, \n",
    "    total sum of squares, mean squared error, root mean squared error\n",
    "    for baseline model'''\n",
    "    \n",
    "    #calculates sum of squared errors\n",
    "    SSE_baseline = sum(train['residual_baseline']**2)\n",
    "    print(\"Sum of Squared errors for Baseline model:\",{SSE})\n",
    "        \n",
    "    #calculate mean squared error \n",
    "    MSE_baseline = SSE_baseline/len(train)\n",
    "    print(\"Mean Squared Error for Baseline model:\",{MSE})\n",
    "    \n",
    "    #calculate root mean squared error\n",
    "    RMSE_baseline = sqrt(MSE_baseline)\n",
    "    print(\"Root Mean Squared Error for Baseline model:\",{RMSE_baseline})\n",
    "\n",
    "def better_than_baseline(y,yhat):\n",
    "    '''this function will determine which model is better\n",
    "        based on the value of SSE'''\n",
    "    if SSE > SSE_baseline:\n",
    "        print('False')\n",
    "    else:\n",
    "        print('True')"
   ]
  },
  {
   "cell_type": "code",
   "execution_count": null,
   "id": "b5f30f8b",
   "metadata": {},
   "outputs": [],
   "source": []
  }
 ],
 "metadata": {
  "kernelspec": {
   "display_name": "Python 3 (ipykernel)",
   "language": "python",
   "name": "python3"
  },
  "language_info": {
   "codemirror_mode": {
    "name": "ipython",
    "version": 3
   },
   "file_extension": ".py",
   "mimetype": "text/x-python",
   "name": "python",
   "nbconvert_exporter": "python",
   "pygments_lexer": "ipython3",
   "version": "3.9.12"
  }
 },
 "nbformat": 4,
 "nbformat_minor": 5
}
