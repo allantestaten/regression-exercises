{
 "cells": [
  {
   "cell_type": "code",
   "execution_count": 1,
   "id": "aa6f5378",
   "metadata": {},
   "outputs": [],
   "source": [
    "import pandas as pd\n",
    "import numpy as np\n",
    "import os\n",
    "from env import get_db_url\n",
    "from pathlib import Path \n",
    "import csv\n",
    "import wrangle as w\n",
    "from scipy import stats\n",
    "\n",
    "# modeling methods\n",
    "from sklearn.metrics import mean_squared_error\n",
    "from sklearn.linear_model import LinearRegression, LassoLars, TweedieRegressor\n",
    "from sklearn.preprocessing import PolynomialFeatures\n",
    "import matplotlib.pyplot as plt\n",
    "import seaborn as sns\n",
    "\n",
    "from sklearn.model_selection import train_test_split\n",
    "import sklearn.preprocessing\n",
    "\n",
    "import warnings\n",
    "warnings.filterwarnings(\"ignore\")\n",
    "\n",
    "from sklearn.preprocessing import MinMaxScaler, StandardScaler, RobustScaler, QuantileTransformer"
   ]
  },
  {
   "cell_type": "markdown",
   "id": "19c53dc0",
   "metadata": {},
   "source": []
  },
  {
   "cell_type": "markdown",
   "id": "f8e7d37b",
   "metadata": {},
   "source": [
    "# Prepare\n",
    "\n",
    "* Removed null values stored as whitespace\n",
    "* Changed total charges from object to float and did not identify or address outliers\n",
    "* Split data into train, validate and test(approx. 74/16/10)\n",
    "* Encoded binary categorical variables to 1 or 0 \n",
    "* Converted non-binary categorical variables to 1 and 0 \n",
    "* No columns were dropped during preparation "
   ]
  },
  {
   "cell_type": "markdown",
   "id": "8eaac1ef",
   "metadata": {},
   "source": [
    "## Data Dictionary\n",
    "| Feature | Definition |\n",
    "|:--------|:-----------|\n",
    "|Beds| Number of bedrooms in the home|\n",
    "|Baths| Number of bathrooms in the home|\n",
    "|sqft| The square footage of the home|\n",
    "|room count| Represents the total number of rooms in the home|\n",
    "|fips| The county the property is located in Los Angelese County CA, Ventura CA or Orange County CA|"
   ]
  },
  {
   "cell_type": "code",
   "execution_count": 2,
   "id": "08856ccd",
   "metadata": {},
   "outputs": [],
   "source": [
    "# creating train, validate and test datasets\n",
    "train, validate, test = w.wrangle_zillow()"
   ]
  },
  {
   "cell_type": "code",
   "execution_count": 3,
   "id": "4a86c994",
   "metadata": {},
   "outputs": [
    {
     "data": {
      "text/plain": [
       "(25950, 65)"
      ]
     },
     "execution_count": 3,
     "metadata": {},
     "output_type": "execute_result"
    }
   ],
   "source": [
    "#size of train dataset\n",
    "train.shape"
   ]
  },
  {
   "cell_type": "code",
   "execution_count": 4,
   "id": "9609b475",
   "metadata": {},
   "outputs": [
    {
     "data": {
      "text/plain": [
       "(11122, 65)"
      ]
     },
     "execution_count": 4,
     "metadata": {},
     "output_type": "execute_result"
    }
   ],
   "source": [
    "#size of train validate dataset\n",
    "validate.shape"
   ]
  },
  {
   "cell_type": "code",
   "execution_count": 5,
   "id": "373243b1",
   "metadata": {},
   "outputs": [
    {
     "data": {
      "text/plain": [
       "(9268, 65)"
      ]
     },
     "execution_count": 5,
     "metadata": {},
     "output_type": "execute_result"
    }
   ],
   "source": [
    "#size of Test dataset\n",
    "test.shape"
   ]
  },
  {
   "cell_type": "code",
   "execution_count": 6,
   "id": "2c3b15ee",
   "metadata": {},
   "outputs": [
    {
     "data": {
      "text/plain": [
       "propertylandusetypeid             0\n",
       "parcelid                          0\n",
       "id                                0\n",
       "logerror                          0\n",
       "transactiondate                   0\n",
       "id.1                              0\n",
       "airconditioningtypeid         19835\n",
       "architecturalstyletypeid      25913\n",
       "basementsqft                  25932\n",
       "baths                             0\n",
       "beds                              0\n",
       "buildingclasstypeid           25950\n",
       "buildingqualitytypeid          8844\n",
       "calculatedbathnbr                39\n",
       "decktypeid                    25815\n",
       "finishedfloor1squarefeet      23830\n",
       "sqft                              0\n",
       "finishedsquarefeet12             93\n",
       "finishedsquarefeet13          25950\n",
       "finishedsquarefeet15          25950\n",
       "finishedsquarefeet50          23830\n",
       "finishedsquarefeet6           25857\n",
       "fips                              0\n",
       "fireplacecnt                  22494\n",
       "fullbathcnt                      39\n",
       "garagecarcnt                  17390\n",
       "garagetotalsqft               17390\n",
       "hashottuborspa                25532\n",
       "heatingorsystemtypeid          8823\n",
       "latitude                          0\n",
       "longitude                         0\n",
       "lotsizesquarefeet               138\n",
       "poolcnt                       21489\n",
       "poolsizesum                   25646\n",
       "pooltypeid10                  25784\n",
       "pooltypeid2                   25698\n",
       "pooltypeid7                   21750\n",
       "propertycountylandusecode         0\n",
       "propertyzoningdesc             8827\n",
       "rawcensustractandblock            0\n",
       "regionidcity                    420\n",
       "regionidcounty                    0\n",
       "regionidneighborhood          16433\n",
       "regionidzip                       6\n",
       "total_rooms                       0\n",
       "storytypeid                   25932\n",
       "threequarterbathnbr           23182\n",
       "typeconstructiontypeid        25910\n",
       "unitcnt                        8827\n",
       "yardbuildingsqft17            25052\n",
       "yardbuildingsqft26            25919\n",
       "year_built                       14\n",
       "numberofstories               18554\n",
       "fireplaceflag                 25912\n",
       "structuretaxvaluedollarcnt       40\n",
       "property_value                    0\n",
       "assessmentyear                    0\n",
       "landtaxvaluedollarcnt             0\n",
       "taxamount                         2\n",
       "taxdelinquencyflag            24877\n",
       "taxdelinquencyyear            24877\n",
       "censustractandblock              36\n",
       "propertylandusedesc               0\n",
       "fips_Orange County CA             0\n",
       "fips_Ventura County CA            0\n",
       "dtype: int64"
      ]
     },
     "execution_count": 6,
     "metadata": {},
     "output_type": "execute_result"
    }
   ],
   "source": [
    "#Null count in train dataset\n",
    "train.isnull().sum()"
   ]
  },
  {
   "cell_type": "code",
   "execution_count": 7,
   "id": "7a6c7839",
   "metadata": {},
   "outputs": [
    {
     "data": {
      "text/plain": [
       "propertylandusetypeid             0\n",
       "parcelid                          0\n",
       "id                                0\n",
       "logerror                          0\n",
       "transactiondate                   0\n",
       "id.1                              0\n",
       "airconditioningtypeid          8503\n",
       "architecturalstyletypeid      11106\n",
       "basementsqft                  11114\n",
       "baths                             0\n",
       "beds                              0\n",
       "buildingclasstypeid           11122\n",
       "buildingqualitytypeid          3785\n",
       "calculatedbathnbr                 6\n",
       "decktypeid                    11065\n",
       "finishedfloor1squarefeet      10224\n",
       "sqft                              0\n",
       "finishedsquarefeet12             38\n",
       "finishedsquarefeet13          11122\n",
       "finishedsquarefeet15          11122\n",
       "finishedsquarefeet50          10224\n",
       "finishedsquarefeet6           11084\n",
       "fips                              0\n",
       "fireplacecnt                   9571\n",
       "fullbathcnt                       6\n",
       "garagecarcnt                   7466\n",
       "garagetotalsqft                7466\n",
       "hashottuborspa                10943\n",
       "heatingorsystemtypeid          3754\n",
       "latitude                          0\n",
       "longitude                         0\n",
       "lotsizesquarefeet                57\n",
       "poolcnt                        9213\n",
       "poolsizesum                   10975\n",
       "pooltypeid10                  11047\n",
       "pooltypeid2                   11018\n",
       "pooltypeid7                    9319\n",
       "propertycountylandusecode         0\n",
       "propertyzoningdesc             3777\n",
       "rawcensustractandblock            0\n",
       "regionidcity                    188\n",
       "regionidcounty                    0\n",
       "regionidneighborhood           7041\n",
       "regionidzip                       1\n",
       "total_rooms                       0\n",
       "storytypeid                   11114\n",
       "threequarterbathnbr            9915\n",
       "typeconstructiontypeid        11105\n",
       "unitcnt                        3778\n",
       "yardbuildingsqft17            10712\n",
       "yardbuildingsqft26            11117\n",
       "year_built                        6\n",
       "numberofstories                7984\n",
       "fireplaceflag                 11104\n",
       "structuretaxvaluedollarcnt        9\n",
       "property_value                    0\n",
       "assessmentyear                    0\n",
       "landtaxvaluedollarcnt             0\n",
       "taxamount                         1\n",
       "taxdelinquencyflag            10679\n",
       "taxdelinquencyyear            10679\n",
       "censustractandblock              14\n",
       "propertylandusedesc               0\n",
       "fips_Orange County CA             0\n",
       "fips_Ventura County CA            0\n",
       "dtype: int64"
      ]
     },
     "execution_count": 7,
     "metadata": {},
     "output_type": "execute_result"
    }
   ],
   "source": [
    "#Null count in validate dataset\n",
    "validate.isnull().sum()"
   ]
  },
  {
   "cell_type": "code",
   "execution_count": 8,
   "id": "218fa77c",
   "metadata": {},
   "outputs": [
    {
     "data": {
      "text/plain": [
       "propertylandusetypeid            0\n",
       "parcelid                         0\n",
       "id                               0\n",
       "logerror                         0\n",
       "transactiondate                  0\n",
       "id.1                             0\n",
       "airconditioningtypeid         7063\n",
       "architecturalstyletypeid      9251\n",
       "basementsqft                  9259\n",
       "baths                            0\n",
       "beds                             0\n",
       "buildingclasstypeid           9268\n",
       "buildingqualitytypeid         3136\n",
       "calculatedbathnbr                9\n",
       "decktypeid                    9229\n",
       "finishedfloor1squarefeet      8558\n",
       "sqft                             0\n",
       "finishedsquarefeet12            26\n",
       "finishedsquarefeet13          9268\n",
       "finishedsquarefeet15          9268\n",
       "finishedsquarefeet50          8558\n",
       "finishedsquarefeet6           9242\n",
       "fips                             0\n",
       "fireplacecnt                  8017\n",
       "fullbathcnt                      9\n",
       "garagecarcnt                  6229\n",
       "garagetotalsqft               6229\n",
       "hashottuborspa                9140\n",
       "heatingorsystemtypeid         3111\n",
       "latitude                         0\n",
       "longitude                        0\n",
       "lotsizesquarefeet               52\n",
       "poolcnt                       7680\n",
       "poolsizesum                   9165\n",
       "pooltypeid10                  9207\n",
       "pooltypeid2                   9201\n",
       "pooltypeid7                   7749\n",
       "propertycountylandusecode        0\n",
       "propertyzoningdesc            3129\n",
       "rawcensustractandblock           0\n",
       "regionidcity                   145\n",
       "regionidcounty                   0\n",
       "regionidneighborhood          5931\n",
       "regionidzip                      5\n",
       "total_rooms                      0\n",
       "storytypeid                   9259\n",
       "threequarterbathnbr           8259\n",
       "typeconstructiontypeid        9249\n",
       "unitcnt                       3131\n",
       "yardbuildingsqft17            8969\n",
       "yardbuildingsqft26            9258\n",
       "year_built                       7\n",
       "numberofstories               6625\n",
       "fireplaceflag                 9244\n",
       "structuretaxvaluedollarcnt      10\n",
       "property_value                   0\n",
       "assessmentyear                   0\n",
       "landtaxvaluedollarcnt            0\n",
       "taxamount                        1\n",
       "taxdelinquencyflag            8894\n",
       "taxdelinquencyyear            8894\n",
       "censustractandblock             16\n",
       "propertylandusedesc              0\n",
       "fips_Orange County CA            0\n",
       "fips_Ventura County CA           0\n",
       "dtype: int64"
      ]
     },
     "execution_count": 8,
     "metadata": {},
     "output_type": "execute_result"
    }
   ],
   "source": [
    "#Null count in test dataset\n",
    "test.isnull().sum()"
   ]
  },
  {
   "cell_type": "code",
   "execution_count": 9,
   "id": "ba3cb625",
   "metadata": {},
   "outputs": [
    {
     "name": "stdout",
     "output_type": "stream",
     "text": [
      "<class 'pandas.core.frame.DataFrame'>\n",
      "Int64Index: 9268 entries, 7505 to 29889\n",
      "Data columns (total 65 columns):\n",
      " #   Column                      Non-Null Count  Dtype  \n",
      "---  ------                      --------------  -----  \n",
      " 0   propertylandusetypeid       9268 non-null   float64\n",
      " 1   parcelid                    9268 non-null   int64  \n",
      " 2   id                          9268 non-null   int64  \n",
      " 3   logerror                    9268 non-null   float64\n",
      " 4   transactiondate             9268 non-null   object \n",
      " 5   id.1                        9268 non-null   int64  \n",
      " 6   airconditioningtypeid       2205 non-null   float64\n",
      " 7   architecturalstyletypeid    17 non-null     float64\n",
      " 8   basementsqft                9 non-null      float64\n",
      " 9   baths                       9268 non-null   float64\n",
      " 10  beds                        9268 non-null   float64\n",
      " 11  buildingclasstypeid         0 non-null      float64\n",
      " 12  buildingqualitytypeid       6132 non-null   float64\n",
      " 13  calculatedbathnbr           9259 non-null   float64\n",
      " 14  decktypeid                  39 non-null     float64\n",
      " 15  finishedfloor1squarefeet    710 non-null    float64\n",
      " 16  sqft                        9268 non-null   float64\n",
      " 17  finishedsquarefeet12        9242 non-null   float64\n",
      " 18  finishedsquarefeet13        0 non-null      float64\n",
      " 19  finishedsquarefeet15        0 non-null      float64\n",
      " 20  finishedsquarefeet50        710 non-null    float64\n",
      " 21  finishedsquarefeet6         26 non-null     float64\n",
      " 22  fips                        9268 non-null   object \n",
      " 23  fireplacecnt                1251 non-null   float64\n",
      " 24  fullbathcnt                 9259 non-null   float64\n",
      " 25  garagecarcnt                3039 non-null   float64\n",
      " 26  garagetotalsqft             3039 non-null   float64\n",
      " 27  hashottuborspa              128 non-null    float64\n",
      " 28  heatingorsystemtypeid       6157 non-null   float64\n",
      " 29  latitude                    9268 non-null   float64\n",
      " 30  longitude                   9268 non-null   float64\n",
      " 31  lotsizesquarefeet           9216 non-null   float64\n",
      " 32  poolcnt                     1588 non-null   float64\n",
      " 33  poolsizesum                 103 non-null    float64\n",
      " 34  pooltypeid10                61 non-null     float64\n",
      " 35  pooltypeid2                 67 non-null     float64\n",
      " 36  pooltypeid7                 1519 non-null   float64\n",
      " 37  propertycountylandusecode   9268 non-null   object \n",
      " 38  propertyzoningdesc          6139 non-null   object \n",
      " 39  rawcensustractandblock      9268 non-null   float64\n",
      " 40  regionidcity                9123 non-null   float64\n",
      " 41  regionidcounty              9268 non-null   float64\n",
      " 42  regionidneighborhood        3337 non-null   float64\n",
      " 43  regionidzip                 9263 non-null   float64\n",
      " 44  total_rooms                 9268 non-null   float64\n",
      " 45  storytypeid                 9 non-null      float64\n",
      " 46  threequarterbathnbr         1009 non-null   float64\n",
      " 47  typeconstructiontypeid      19 non-null     float64\n",
      " 48  unitcnt                     6137 non-null   float64\n",
      " 49  yardbuildingsqft17          299 non-null    float64\n",
      " 50  yardbuildingsqft26          10 non-null     float64\n",
      " 51  year_built                  9261 non-null   float64\n",
      " 52  numberofstories             2643 non-null   float64\n",
      " 53  fireplaceflag               24 non-null     float64\n",
      " 54  structuretaxvaluedollarcnt  9258 non-null   float64\n",
      " 55  property_value              9268 non-null   float64\n",
      " 56  assessmentyear              9268 non-null   float64\n",
      " 57  landtaxvaluedollarcnt       9268 non-null   float64\n",
      " 58  taxamount                   9267 non-null   float64\n",
      " 59  taxdelinquencyflag          374 non-null    object \n",
      " 60  taxdelinquencyyear          374 non-null    float64\n",
      " 61  censustractandblock         9252 non-null   float64\n",
      " 62  propertylandusedesc         9268 non-null   object \n",
      " 63  fips_Orange County CA       9268 non-null   uint8  \n",
      " 64  fips_Ventura County CA      9268 non-null   uint8  \n",
      "dtypes: float64(54), int64(3), object(6), uint8(2)\n",
      "memory usage: 4.5+ MB\n"
     ]
    }
   ],
   "source": [
    "test.info()"
   ]
  },
  {
   "cell_type": "code",
   "execution_count": 10,
   "id": "34a7547e",
   "metadata": {},
   "outputs": [],
   "source": [
    "# columns used as independent variables \n",
    "x_cols = ['baths','sqft','beds']"
   ]
  },
  {
   "cell_type": "code",
   "execution_count": 11,
   "id": "5892dbf6",
   "metadata": {},
   "outputs": [],
   "source": [
    "# assigning values to x/y train, validate and test \n",
    "X_train = train[x_cols]\n",
    "y_train = train['property_value']\n",
    "\n",
    "X_validate = validate[x_cols]\n",
    "y_validate = validate['property_value']\n",
    "\n",
    "X_test = test[x_cols]\n",
    "y_test = test['property_value']\n"
   ]
  },
  {
   "cell_type": "code",
   "execution_count": 12,
   "id": "a1954550",
   "metadata": {},
   "outputs": [
    {
     "data": {
      "image/png": "[encoded data removed]",
      "text/plain": [
       "<Figure size 432x288 with 1 Axes>"
      ]
     },
     "metadata": {
      "needs_background": "light"
     },
     "output_type": "display_data"
    }
   ],
   "source": [
    "# Visualizing target variable \"Property Value\"\n",
    "plt.hist(y_train)\n",
    "plt.xlabel(\"Property Value\")\n",
    "plt.ylabel(\"Number Homes\")\n",
    "plt.show()\n"
   ]
  },
  {
   "cell_type": "markdown",
   "id": "04f92f73",
   "metadata": {},
   "source": [
    "## Baseline "
   ]
  },
  {
   "cell_type": "code",
   "execution_count": 13,
   "id": "5525e48e",
   "metadata": {},
   "outputs": [
    {
     "name": "stdout",
     "output_type": "stream",
     "text": [
      "RMSE using Mean\n",
      "Train/In-Sample:  374068.55 \n",
      "Validate/Out-of-Sample:  387413.56\n",
      "RMSE using Median\n",
      "Train/In-Sample:  380783.0 \n",
      "Validate/Out-of-Sample:  395096.96\n"
     ]
    }
   ],
   "source": [
    "# We need y_train and y_validate to be dataframes to append the new columns with predicted values. \n",
    "y_train = pd.DataFrame(y_train)\n",
    "y_validate = pd.DataFrame(y_validate)\n",
    "\n",
    "# 1. Predict property_value_pred_mean\n",
    "prop_value_pred_mean = y_train['property_value'].mean()\n",
    "y_train['prop_value_pred_mean'] = prop_value_pred_mean\n",
    "y_validate['prop_value_pred_mean'] = prop_value_pred_mean\n",
    "\n",
    "# 2. compute prop_value_pred_median\n",
    "prop_value_pred_median = y_train['property_value'].median()\n",
    "y_train['prop_value_pred_median'] = prop_value_pred_median\n",
    "y_validate['prop_value_pred_median'] = prop_value_pred_median\n",
    "\n",
    "# 3. RMSE of prop_value_pred_mean\n",
    "rmse_train = mean_squared_error(y_train.property_value, y_train.prop_value_pred_mean)**(1/2)\n",
    "rmse_validate = mean_squared_error(y_validate.property_value, y_validate.prop_value_pred_mean)**(1/2)\n",
    "\n",
    "print(\"RMSE using Mean\\nTrain/In-Sample: \", round(rmse_train, 2), \n",
    "      \"\\nValidate/Out-of-Sample: \", round(rmse_validate, 2))\n",
    "\n",
    "# 4. RMSE of prop_value_pred_median\n",
    "rmse_train = mean_squared_error(y_train.property_value, y_train.prop_value_pred_median)**(1/2)\n",
    "rmse_validate = mean_squared_error(y_validate.property_value, y_validate.prop_value_pred_median)**(1/2)\n",
    "\n",
    "print(\"RMSE using Median\\nTrain/In-Sample: \", round(rmse_train, 2), \n",
    "      \"\\nValidate/Out-of-Sample: \", round(rmse_validate, 2))\n"
   ]
  },
  {
   "cell_type": "markdown",
   "id": "58147c02",
   "metadata": {},
   "source": [
    "## Visualizing target variable "
   ]
  },
  {
   "cell_type": "code",
   "execution_count": 14,
   "id": "87f627a3",
   "metadata": {
    "scrolled": true
   },
   "outputs": [
    {
     "data": {
      "image/png": "[encoded data removed]",
      "text/plain": [
       "<Figure size 432x288 with 1 Axes>"
      ]
     },
     "metadata": {
      "needs_background": "light"
     },
     "output_type": "display_data"
    }
   ],
   "source": [
    "# plot to visualize actual vs predicted. \n",
    "plt.hist(y_train.property_value, color='blue', alpha=.5, label=\"Actual Property Values\")\n",
    "plt.hist(y_train.prop_value_pred_mean, bins=1, color='red', alpha=.5, rwidth=20, label=\"Predicted Property Values - Mean\")\n",
    "plt.hist(y_train.prop_value_pred_median, bins=1, color='orange', alpha=.5, rwidth=20, label=\"Predicted Property Values - Median\")\n",
    "plt.xlabel(\"Property Values\")\n",
    "plt.ylabel(\"Number of Properties\")\n",
    "plt.legend()\n",
    "plt.show()\n"
   ]
  },
  {
   "cell_type": "markdown",
   "id": "029fe0a5",
   "metadata": {},
   "source": [
    "## LinearRegression OLS"
   ]
  },
  {
   "cell_type": "code",
   "execution_count": 15,
   "id": "d1fd73d0",
   "metadata": {},
   "outputs": [
    {
     "name": "stdout",
     "output_type": "stream",
     "text": [
      "RMSE for OLS using LinearRegression\n",
      "Training/In-Sample:  344065.8617743427 \n",
      "Validation/Out-of-Sample:  356369.3872642391\n"
     ]
    }
   ],
   "source": [
    "# create the model object\n",
    "lm = LinearRegression(normalize=True)\n",
    "\n",
    "# fit the model to our training data. We must specify the column in y_train, \n",
    "# since we have converted it to a dataframe from a series! \n",
    "lm.fit(X_train, y_train.property_value)\n",
    "\n",
    "# predict train\n",
    "y_train['property_value_pred_lm'] = lm.predict(X_train)\n",
    "\n",
    "# evaluate: rmse\n",
    "rmse_train = mean_squared_error(y_train.property_value, y_train.property_value_pred_lm)**(1/2)\n",
    "\n",
    "# predict validate\n",
    "y_validate['property_value_pred_lm'] = lm.predict(X_validate)\n",
    "\n",
    "# evaluate: rmse\n",
    "rmse_validate = mean_squared_error(y_validate.property_value, y_validate.property_value_pred_lm)**(1/2)\n",
    "\n",
    "print(\"RMSE for OLS using LinearRegression\\nTraining/In-Sample: \", rmse_train, \n",
    "      \"\\nValidation/Out-of-Sample: \", rmse_validate)\n"
   ]
  },
  {
   "cell_type": "markdown",
   "id": "72f2fc8f",
   "metadata": {},
   "source": [
    "## LassoLars"
   ]
  },
  {
   "cell_type": "code",
   "execution_count": 16,
   "id": "de48f2c5",
   "metadata": {},
   "outputs": [
    {
     "name": "stdout",
     "output_type": "stream",
     "text": [
      "RMSE for Lasso + Lars\n",
      "Training/In-Sample:  344066.0761344583 \n",
      "Validation/Out-of-Sample:  356372.14646836766\n"
     ]
    }
   ],
   "source": [
    "# create the model object\n",
    "lars = LassoLars(alpha=1.0)\n",
    "\n",
    "# fit the model to our training data. We must specify the column in y_train, \n",
    "# since we have converted it to a dataframe from a series! \n",
    "lars.fit(X_train, y_train.property_value)\n",
    "\n",
    "# predict train\n",
    "y_train['property_value_pred_lars'] = lars.predict(X_train)\n",
    "\n",
    "# evaluate: rmse\n",
    "rmse_train = mean_squared_error(y_train.property_value, y_train.property_value_pred_lars)**(1/2)\n",
    "\n",
    "# predict validate\n",
    "y_validate['property_value_pred_lars'] = lars.predict(X_validate)\n",
    "\n",
    "# evaluate: rmse\n",
    "rmse_validate = mean_squared_error(y_validate.property_value, y_validate.property_value_pred_lars)**(1/2)\n",
    "\n",
    "print(\"RMSE for Lasso + Lars\\nTraining/In-Sample: \", rmse_train, \n",
    "      \"\\nValidation/Out-of-Sample: \", rmse_validate)\n"
   ]
  },
  {
   "cell_type": "markdown",
   "id": "385557ad",
   "metadata": {},
   "source": [
    "## TweedieRegressor(GLM)"
   ]
  },
  {
   "cell_type": "code",
   "execution_count": 17,
   "id": "3269bacd",
   "metadata": {},
   "outputs": [
    {
     "name": "stdout",
     "output_type": "stream",
     "text": [
      "RMSE for GLM using Tweedie, power=1 & alpha=0\n",
      "Training/In-Sample:  374068.55130649824 \n",
      "Validation/Out-of-Sample:  387413.56477450964\n"
     ]
    }
   ],
   "source": [
    "# create the model object\n",
    "glm = TweedieRegressor(power=1, alpha=0)\n",
    "\n",
    "# fit the model to our training data. We must specify the column in y_train, \n",
    "# since we have converted it to a dataframe from a series! \n",
    "glm.fit(X_train, y_train.property_value)\n",
    "\n",
    "# predict train\n",
    "y_train['property_value_pred_glm'] = glm.predict(X_train)\n",
    "\n",
    "# evaluate: rmse\n",
    "rmse_train = mean_squared_error(y_train.property_value, y_train.property_value_pred_glm)**(1/2)\n",
    "\n",
    "# predict validate\n",
    "y_validate['property_value_pred_glm'] = glm.predict(X_validate)\n",
    "\n",
    "# evaluate: rmse\n",
    "rmse_validate = mean_squared_error(y_validate.property_value, y_validate.property_value_pred_glm)**(1/2)\n",
    "\n",
    "print(\"RMSE for GLM using Tweedie, power=1 & alpha=0\\nTraining/In-Sample: \", rmse_train, \n",
    "      \"\\nValidation/Out-of-Sample: \", rmse_validate)\n"
   ]
  },
  {
   "cell_type": "markdown",
   "id": "e40c17cd",
   "metadata": {},
   "source": [
    "## Polynomial regression"
   ]
  },
  {
   "cell_type": "code",
   "execution_count": 20,
   "id": "79d9289f",
   "metadata": {},
   "outputs": [],
   "source": [
    "# make the polynomial features to get a new set of features\n",
    "pf = PolynomialFeatures(degree=2)\n",
    "\n",
    "# fit and transform X_train_scaled\n",
    "X_train_degree2 = pf.fit_transform(X_train)\n",
    "\n",
    "# transform X_validate_scaled & X_test_scaled\n",
    "X_validate_degree2 = pf.transform(X_validate)\n",
    "\n",
    "\n"
   ]
  },
  {
   "cell_type": "markdown",
   "id": "2bd64f44",
   "metadata": {},
   "source": [
    "## Linear Regression "
   ]
  },
  {
   "cell_type": "code",
   "execution_count": 21,
   "id": "56440104",
   "metadata": {},
   "outputs": [
    {
     "name": "stdout",
     "output_type": "stream",
     "text": [
      "RMSE for Polynomial Model, degrees=2\n",
      "Training/In-Sample:  341879.79414840636 \n",
      "Validation/Out-of-Sample:  355253.863442028\n"
     ]
    }
   ],
   "source": [
    "# create the model object\n",
    "lm2 = LinearRegression(normalize=True)\n",
    "\n",
    "# fit the model to our training data. We must specify the column in y_train, \n",
    "# since we have converted it to a dataframe from a series! \n",
    "lm2.fit(X_train_degree2, y_train.property_value)\n",
    "\n",
    "# predict train\n",
    "y_train['property_value_pred_lm2'] = lm2.predict(X_train_degree2)\n",
    "\n",
    "# evaluate: rmse\n",
    "rmse_train = mean_squared_error(y_train.property_value, y_train.property_value_pred_lm2)**(1/2)\n",
    "\n",
    "# predict validate\n",
    "y_validate['property_value_pred_lm2'] = lm2.predict(X_validate_degree2)\n",
    "\n",
    "# evaluate: rmse\n",
    "rmse_validate = mean_squared_error(y_validate.property_value, y_validate.property_value_pred_lm2)**(1/2)\n",
    "\n",
    "print(\"RMSE for Polynomial Model, degrees=2\\nTraining/In-Sample: \", rmse_train, \n",
    "      \"\\nValidation/Out-of-Sample: \", rmse_validate)\n"
   ]
  },
  {
   "cell_type": "code",
   "execution_count": null,
   "id": "b8da6eac",
   "metadata": {},
   "outputs": [],
   "source": []
  },
  {
   "cell_type": "code",
   "execution_count": null,
   "id": "49c80d88",
   "metadata": {},
   "outputs": [],
   "source": []
  },
  {
   "cell_type": "code",
   "execution_count": null,
   "id": "491a22c4",
   "metadata": {},
   "outputs": [],
   "source": []
  }
 ],
 "metadata": {
  "kernelspec": {
   "display_name": "Python 3 (ipykernel)",
   "language": "python",
   "name": "python3"
  },
  "language_info": {
   "codemirror_mode": {
    "name": "ipython",
    "version": 3
   },
   "file_extension": ".py",
   "mimetype": "text/x-python",
   "name": "python",
   "nbconvert_exporter": "python",
   "pygments_lexer": "ipython3",
   "version": "3.9.12"
  }
 },
 "nbformat": 4,
 "nbformat_minor": 5
}
