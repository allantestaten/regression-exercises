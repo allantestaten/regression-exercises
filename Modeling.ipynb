{
 "cells": [
  {
   "cell_type": "code",
   "execution_count": 15,
   "id": "aa6f5378",
   "metadata": {},
   "outputs": [],
   "source": [
    "import pandas as pd\n",
    "import numpy as np\n",
    "import os\n",
    "from env import get_db_url\n",
    "from pathlib import Path \n",
    "import csv\n",
    "import wrangle as w\n",
    "from scipy import stats\n",
    "\n",
    "# modeling methods\n",
    "from sklearn.metrics import mean_squared_error\n",
    "from sklearn.linear_model import LinearRegression, LassoLars, TweedieRegressor\n",
    "from sklearn.preprocessing import PolynomialFeatures\n",
    "import matplotlib.pyplot as plt\n",
    "import seaborn as sns\n",
    "\n",
    "from sklearn.model_selection import train_test_split\n",
    "import sklearn.preprocessing\n",
    "\n",
    "import warnings\n",
    "warnings.filterwarnings(\"ignore\")\n",
    "\n",
    "from sklearn.preprocessing import MinMaxScaler, StandardScaler, RobustScaler, QuantileTransformer"
   ]
  },
  {
   "cell_type": "code",
   "execution_count": 3,
   "id": "08856ccd",
   "metadata": {},
   "outputs": [],
   "source": [
    "# creating train, validate and test datasets\n",
    "train, validate, test = w.wrangle_zillow()"
   ]
  },
  {
   "cell_type": "code",
   "execution_count": 4,
   "id": "4a86c994",
   "metadata": {},
   "outputs": [
    {
     "data": {
      "text/plain": [
       "(784184, 7)"
      ]
     },
     "execution_count": 4,
     "metadata": {},
     "output_type": "execute_result"
    }
   ],
   "source": [
    "#size of train dataset\n",
    "train.shape"
   ]
  },
  {
   "cell_type": "code",
   "execution_count": 5,
   "id": "9609b475",
   "metadata": {},
   "outputs": [
    {
     "data": {
      "text/plain": [
       "(336079, 7)"
      ]
     },
     "execution_count": 5,
     "metadata": {},
     "output_type": "execute_result"
    }
   ],
   "source": [
    "#size of train validate dataset\n",
    "validate.shape"
   ]
  },
  {
   "cell_type": "code",
   "execution_count": 6,
   "id": "373243b1",
   "metadata": {},
   "outputs": [
    {
     "data": {
      "text/plain": [
       "(280066, 7)"
      ]
     },
     "execution_count": 6,
     "metadata": {},
     "output_type": "execute_result"
    }
   ],
   "source": [
    "#size of Test dataset\n",
    "test.shape"
   ]
  },
  {
   "cell_type": "code",
   "execution_count": 10,
   "id": "2c3b15ee",
   "metadata": {},
   "outputs": [
    {
     "data": {
      "text/plain": [
       "bedrooms          0\n",
       "bathrooms         0\n",
       "area              0\n",
       "year_built        0\n",
       "property_value    0\n",
       "taxamount         0\n",
       "fips              0\n",
       "dtype: int64"
      ]
     },
     "execution_count": 10,
     "metadata": {},
     "output_type": "execute_result"
    }
   ],
   "source": [
    "#Null count in train dataset\n",
    "train.isnull().sum()"
   ]
  },
  {
   "cell_type": "code",
   "execution_count": 11,
   "id": "7a6c7839",
   "metadata": {},
   "outputs": [
    {
     "data": {
      "text/plain": [
       "bedrooms          0\n",
       "bathrooms         0\n",
       "area              0\n",
       "year_built        0\n",
       "property_value    0\n",
       "taxamount         0\n",
       "fips              0\n",
       "dtype: int64"
      ]
     },
     "execution_count": 11,
     "metadata": {},
     "output_type": "execute_result"
    }
   ],
   "source": [
    "#Null count in validate dataset\n",
    "validate.isnull().sum()"
   ]
  },
  {
   "cell_type": "code",
   "execution_count": 12,
   "id": "218fa77c",
   "metadata": {},
   "outputs": [
    {
     "data": {
      "text/plain": [
       "bedrooms          0\n",
       "bathrooms         0\n",
       "area              0\n",
       "year_built        0\n",
       "property_value    0\n",
       "taxamount         0\n",
       "fips              0\n",
       "dtype: int64"
      ]
     },
     "execution_count": 12,
     "metadata": {},
     "output_type": "execute_result"
    }
   ],
   "source": [
    "#Null count in test dataset\n",
    "test.isnull().sum()"
   ]
  },
  {
   "cell_type": "code",
   "execution_count": 14,
   "id": "ba3cb625",
   "metadata": {},
   "outputs": [
    {
     "name": "stdout",
     "output_type": "stream",
     "text": [
      "<class 'pandas.core.frame.DataFrame'>\n",
      "Int64Index: 280066 entries, 1375137 to 51867\n",
      "Data columns (total 7 columns):\n",
      " #   Column          Non-Null Count   Dtype  \n",
      "---  ------          --------------   -----  \n",
      " 0   bedrooms        280066 non-null  float64\n",
      " 1   bathrooms       280066 non-null  float64\n",
      " 2   area            280066 non-null  float64\n",
      " 3   year_built      280066 non-null  float64\n",
      " 4   property_value  280066 non-null  float64\n",
      " 5   taxamount       280066 non-null  float64\n",
      " 6   fips            280066 non-null  float64\n",
      "dtypes: float64(7)\n",
      "memory usage: 17.1 MB\n"
     ]
    }
   ],
   "source": [
    "test.info()"
   ]
  },
  {
   "cell_type": "code",
   "execution_count": 18,
   "id": "34a7547e",
   "metadata": {},
   "outputs": [],
   "source": [
    "# columns used as independent variables \n",
    "x_cols = ['taxamount','area']"
   ]
  },
  {
   "cell_type": "code",
   "execution_count": 20,
   "id": "5892dbf6",
   "metadata": {},
   "outputs": [],
   "source": [
    "# assigning values to x/y train, validate and test \n",
    "X_train = train[x_cols]\n",
    "y_train = train['property_value']\n",
    "\n",
    "X_validate = validate[x_cols]\n",
    "y_validate = validate['property_value']\n",
    "\n",
    "X_test = test[x_cols]\n",
    "y_test = test['property_value']\n"
   ]
  },
  {
   "cell_type": "code",
   "execution_count": 21,
   "id": "a1954550",
   "metadata": {},
   "outputs": [
    {
     "data": {
      "image/png": "[encoded data removed]",
      "text/plain": [
       "<Figure size 432x288 with 1 Axes>"
      ]
     },
     "metadata": {
      "needs_background": "light"
     },
     "output_type": "display_data"
    }
   ],
   "source": [
    "# Visualizing target variable \"Property Value\"\n",
    "plt.hist(y_train)\n",
    "plt.xlabel(\"Property Value\")\n",
    "plt.ylabel(\"Number Homes\")\n",
    "plt.show()\n"
   ]
  },
  {
   "cell_type": "markdown",
   "id": "04f92f73",
   "metadata": {},
   "source": [
    "## Baseline "
   ]
  },
  {
   "cell_type": "code",
   "execution_count": 22,
   "id": "5525e48e",
   "metadata": {},
   "outputs": [
    {
     "name": "stdout",
     "output_type": "stream",
     "text": [
      "RMSE using Mean\n",
      "Train/In-Sample:  194778.78 \n",
      "Validate/Out-of-Sample:  194882.89\n",
      "RMSE using Median\n",
      "Train/In-Sample:  196446.47 \n",
      "Validate/Out-of-Sample:  196617.16\n"
     ]
    }
   ],
   "source": [
    "# We need y_train and y_validate to be dataframes to append the new columns with predicted values. \n",
    "y_train = pd.DataFrame(y_train)\n",
    "y_validate = pd.DataFrame(y_validate)\n",
    "\n",
    "# 1. Predict property_value_pred_mean\n",
    "prop_value_pred_mean = y_train['property_value'].mean()\n",
    "y_train['prop_value_pred_mean'] = prop_value_pred_mean\n",
    "y_validate['prop_value_pred_mean'] = prop_value_pred_mean\n",
    "\n",
    "# 2. compute prop_value_pred_median\n",
    "prop_value_pred_median = y_train['property_value'].median()\n",
    "y_train['prop_value_pred_median'] = prop_value_pred_median\n",
    "y_validate['prop_value_pred_median'] = prop_value_pred_median\n",
    "\n",
    "# 3. RMSE of prop_value_pred_mean\n",
    "rmse_train = mean_squared_error(y_train.property_value, y_train.prop_value_pred_mean)**(1/2)\n",
    "rmse_validate = mean_squared_error(y_validate.property_value, y_validate.prop_value_pred_mean)**(1/2)\n",
    "\n",
    "print(\"RMSE using Mean\\nTrain/In-Sample: \", round(rmse_train, 2), \n",
    "      \"\\nValidate/Out-of-Sample: \", round(rmse_validate, 2))\n",
    "\n",
    "# 4. RMSE of prop_value_pred_median\n",
    "rmse_train = mean_squared_error(y_train.property_value, y_train.prop_value_pred_median)**(1/2)\n",
    "rmse_validate = mean_squared_error(y_validate.property_value, y_validate.prop_value_pred_median)**(1/2)\n",
    "\n",
    "print(\"RMSE using Median\\nTrain/In-Sample: \", round(rmse_train, 2), \n",
    "      \"\\nValidate/Out-of-Sample: \", round(rmse_validate, 2))\n"
   ]
  },
  {
   "cell_type": "markdown",
   "id": "58147c02",
   "metadata": {},
   "source": [
    "## Visualizing target variable "
   ]
  },
  {
   "cell_type": "code",
   "execution_count": 28,
   "id": "87f627a3",
   "metadata": {
    "scrolled": true
   },
   "outputs": [
    {
     "data": {
      "image/png": "[encoded data removed]",
      "text/plain": [
       "<Figure size 432x288 with 1 Axes>"
      ]
     },
     "metadata": {
      "needs_background": "light"
     },
     "output_type": "display_data"
    }
   ],
   "source": [
    "# plot to visualize actual vs predicted. \n",
    "plt.hist(y_train.property_value, color='blue', alpha=.5, label=\"Actual Property Values\")\n",
    "plt.hist(y_train.prop_value_pred_mean, bins=1, color='red', alpha=.5, rwidth=20, label=\"Predicted Property Values - Mean\")\n",
    "plt.hist(y_train.prop_value_pred_median, bins=1, color='orange', alpha=.5, rwidth=20, label=\"Predicted Property Values - Median\")\n",
    "plt.xlabel(\"Property Values\")\n",
    "plt.ylabel(\"Number of Properties\")\n",
    "plt.legend()\n",
    "plt.show()\n"
   ]
  },
  {
   "cell_type": "markdown",
   "id": "029fe0a5",
   "metadata": {},
   "source": [
    "## LinearRegression OLS"
   ]
  },
  {
   "cell_type": "code",
   "execution_count": 32,
   "id": "d1fd73d0",
   "metadata": {},
   "outputs": [
    {
     "name": "stdout",
     "output_type": "stream",
     "text": [
      "RMSE for OLS using LinearRegression\n",
      "Training/In-Sample:  49215.327855129166 \n",
      "Validation/Out-of-Sample:  49782.08650226038\n"
     ]
    }
   ],
   "source": [
    "# create the model object\n",
    "lm = LinearRegression(normalize=True)\n",
    "\n",
    "# fit the model to our training data. We must specify the column in y_train, \n",
    "# since we have converted it to a dataframe from a series! \n",
    "lm.fit(X_train, y_train.property_value)\n",
    "\n",
    "# predict train\n",
    "y_train['property_value_pred_lm'] = lm.predict(X_train)\n",
    "\n",
    "# evaluate: rmse\n",
    "rmse_train = mean_squared_error(y_train.property_value, y_train.property_value_pred_lm)**(1/2)\n",
    "\n",
    "# predict validate\n",
    "y_validate['property_value_pred_lm'] = lm.predict(X_validate)\n",
    "\n",
    "# evaluate: rmse\n",
    "rmse_validate = mean_squared_error(y_validate.property_value, y_validate.property_value_pred_lm)**(1/2)\n",
    "\n",
    "print(\"RMSE for OLS using LinearRegression\\nTraining/In-Sample: \", rmse_train, \n",
    "      \"\\nValidation/Out-of-Sample: \", rmse_validate)\n"
   ]
  },
  {
   "cell_type": "markdown",
   "id": "72f2fc8f",
   "metadata": {},
   "source": [
    "## LassoLars"
   ]
  },
  {
   "cell_type": "code",
   "execution_count": 33,
   "id": "de48f2c5",
   "metadata": {},
   "outputs": [
    {
     "name": "stdout",
     "output_type": "stream",
     "text": [
      "RMSE for Lasso + Lars\n",
      "Training/In-Sample:  49227.14386403 \n",
      "Validation/Out-of-Sample:  49794.818234966595\n"
     ]
    }
   ],
   "source": [
    "# create the model object\n",
    "lars = LassoLars(alpha=1.0)\n",
    "\n",
    "# fit the model to our training data. We must specify the column in y_train, \n",
    "# since we have converted it to a dataframe from a series! \n",
    "lars.fit(X_train, y_train.property_value)\n",
    "\n",
    "# predict train\n",
    "y_train['property_value_pred_lars'] = lars.predict(X_train)\n",
    "\n",
    "# evaluate: rmse\n",
    "rmse_train = mean_squared_error(y_train.property_value, y_train.property_value_pred_lars)**(1/2)\n",
    "\n",
    "# predict validate\n",
    "y_validate['property_value_pred_lars'] = lars.predict(X_validate)\n",
    "\n",
    "# evaluate: rmse\n",
    "rmse_validate = mean_squared_error(y_validate.property_value, y_validate.property_value_pred_lars)**(1/2)\n",
    "\n",
    "print(\"RMSE for Lasso + Lars\\nTraining/In-Sample: \", rmse_train, \n",
    "      \"\\nValidation/Out-of-Sample: \", rmse_validate)\n"
   ]
  },
  {
   "cell_type": "markdown",
   "id": "385557ad",
   "metadata": {},
   "source": [
    "## TweedieRegressor(GLM)"
   ]
  },
  {
   "cell_type": "code",
   "execution_count": 35,
   "id": "3269bacd",
   "metadata": {},
   "outputs": [
    {
     "name": "stdout",
     "output_type": "stream",
     "text": [
      "RMSE for GLM using Tweedie, power=1 & alpha=0\n",
      "Training/In-Sample:  194778.78465735377 \n",
      "Validation/Out-of-Sample:  194882.8855410119\n"
     ]
    }
   ],
   "source": [
    "# create the model object\n",
    "glm = TweedieRegressor(power=1, alpha=0)\n",
    "\n",
    "# fit the model to our training data. We must specify the column in y_train, \n",
    "# since we have converted it to a dataframe from a series! \n",
    "glm.fit(X_train, y_train.property_value)\n",
    "\n",
    "# predict train\n",
    "y_train['property_value_pred_glm'] = glm.predict(X_train)\n",
    "\n",
    "# evaluate: rmse\n",
    "rmse_train = mean_squared_error(y_train.property_value, y_train.property_value_pred_glm)**(1/2)\n",
    "\n",
    "# predict validate\n",
    "y_validate['property_value_pred_glm'] = glm.predict(X_validate)\n",
    "\n",
    "# evaluate: rmse\n",
    "rmse_validate = mean_squared_error(y_validate.property_value, y_validate.property_value_pred_glm)**(1/2)\n",
    "\n",
    "print(\"RMSE for GLM using Tweedie, power=1 & alpha=0\\nTraining/In-Sample: \", rmse_train, \n",
    "      \"\\nValidation/Out-of-Sample: \", rmse_validate)\n"
   ]
  },
  {
   "cell_type": "markdown",
   "id": "e40c17cd",
   "metadata": {},
   "source": [
    "## Polynomial regression"
   ]
  },
  {
   "cell_type": "code",
   "execution_count": 36,
   "id": "79d9289f",
   "metadata": {},
   "outputs": [],
   "source": [
    "# make the polynomial features to get a new set of features\n",
    "pf = PolynomialFeatures(degree=2)\n",
    "\n",
    "# fit and transform X_train_scaled\n",
    "X_train_degree2 = pf.fit_transform(X_train)\n",
    "\n",
    "# transform X_validate_scaled & X_test_scaled\n",
    "X_validate_degree2 = pf.transform(X_validate)\n",
    "X_test_degree2 = pf.transform(X_test)\n"
   ]
  },
  {
   "cell_type": "markdown",
   "id": "2bd64f44",
   "metadata": {},
   "source": [
    "## Linear Regression "
   ]
  },
  {
   "cell_type": "code",
   "execution_count": 37,
   "id": "56440104",
   "metadata": {},
   "outputs": [
    {
     "name": "stdout",
     "output_type": "stream",
     "text": [
      "RMSE for Polynomial Model, degrees=2\n",
      "Training/In-Sample:  49171.6831429958 \n",
      "Validation/Out-of-Sample:  49747.63933240868\n"
     ]
    }
   ],
   "source": [
    "# create the model object\n",
    "lm2 = LinearRegression(normalize=True)\n",
    "\n",
    "# fit the model to our training data. We must specify the column in y_train, \n",
    "# since we have converted it to a dataframe from a series! \n",
    "lm2.fit(X_train_degree2, y_train.property_value)\n",
    "\n",
    "# predict train\n",
    "y_train['property_value_pred_lm2'] = lm2.predict(X_train_degree2)\n",
    "\n",
    "# evaluate: rmse\n",
    "rmse_train = mean_squared_error(y_train.property_value, y_train.property_value_pred_lm2)**(1/2)\n",
    "\n",
    "# predict validate\n",
    "y_validate['property_value_pred_lm2'] = lm2.predict(X_validate_degree2)\n",
    "\n",
    "# evaluate: rmse\n",
    "rmse_validate = mean_squared_error(y_validate.property_value, y_validate.property_value_pred_lm2)**(1/2)\n",
    "\n",
    "print(\"RMSE for Polynomial Model, degrees=2\\nTraining/In-Sample: \", rmse_train, \n",
    "      \"\\nValidation/Out-of-Sample: \", rmse_validate)\n"
   ]
  },
  {
   "cell_type": "code",
   "execution_count": null,
   "id": "b8da6eac",
   "metadata": {},
   "outputs": [],
   "source": []
  }
 ],
 "metadata": {
  "kernelspec": {
   "display_name": "Python 3 (ipykernel)",
   "language": "python",
   "name": "python3"
  },
  "language_info": {
   "codemirror_mode": {
    "name": "ipython",
    "version": 3
   },
   "file_extension": ".py",
   "mimetype": "text/x-python",
   "name": "python",
   "nbconvert_exporter": "python",
   "pygments_lexer": "ipython3",
   "version": "3.9.12"
  }
 },
 "nbformat": 4,
 "nbformat_minor": 5
}
